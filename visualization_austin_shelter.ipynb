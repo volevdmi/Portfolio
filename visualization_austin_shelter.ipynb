{
  "cells": [
    {
      "cell_type": "markdown",
      "id": "fdda746b",
      "metadata": {
        "id": "fdda746b"
      },
      "source": [
        "## 📚 Data\n",
        "The files `intakes.csv` and `outcomes.csv` contain data from a shelter in Austin, Texas USA. The data comes from the official [City of Austin open data source](https://data.austintexas.gov/).\n",
        "\n",
        "The dataset [intakes](https://data.austintexas.gov/Health-and-Community-Services/Austin-Animal-Center-Intakes/wter-evkm) contains data on animals admitted from October 1, 2013 to April 27, 2022. The dataset [outcomes](https://data.austintexas.gov/Health-and-Community-Services/Austin-Animal-Center-Outcomes/9t4d-g238) contains data on animals that left the shelter (e.g., were adopted, returned to owners, etc.) during the same time interval.\n",
        "\n",
        "\n",
        "\n",
        "\n",
        "Using appropriate visualisations, answer the following questions:\n",
        "* Does the type of animal leaving the shelter (Outcome Type) depend on the type of arrival (Income Type)?\n",
        "* What is the age of the animals when adopted?\n",
        "* Is the intake of animals constant throughout the year or are there periods of higher/lower caseloads?\n"
      ]
    },
    {
      "cell_type": "code",
      "execution_count": 105,
      "id": "Kn30vFiQ5DeM",
      "metadata": {
        "id": "Kn30vFiQ5DeM"
      },
      "outputs": [],
      "source": [
        "import time\n",
        "start = time.time()"
      ]
    },
    {
      "cell_type": "markdown",
      "id": "ouCSjGfn9iRt",
      "metadata": {
        "id": "ouCSjGfn9iRt"
      },
      "source": [
        "Now we need to import libraries, which we need to slove our task. \n",
        "\n",
        "Pandas helps us to work with DataFrames;\n",
        "Numpy with arrays and datatypes;\n",
        "Math with mathematical operations;\n",
        "Datetime for date type"
      ]
    },
    {
      "cell_type": "code",
      "execution_count": 107,
      "id": "dfd21adf",
      "metadata": {
        "id": "dfd21adf"
      },
      "outputs": [],
      "source": [
        "import pandas as pd\n",
        "import numpy as np\n",
        "import datetime\n",
        "import math"
      ]
    },
    {
      "cell_type": "code",
      "execution_count": 108,
      "id": "48cbbf27",
      "metadata": {
        "id": "48cbbf27"
      },
      "outputs": [],
      "source": [
        "# let's take data from csv to DataFrame\n",
        "intakes = pd.read_csv(\"csv_files/intakes.csv\", sep=',')\n",
        "outcomes = pd.read_csv(\"csv_file/outcomes.csv\", sep=',')"
      ]
    },
    {
      "cell_type": "markdown",
      "id": "bWAadawN29Yw",
      "metadata": {
        "id": "bWAadawN29Yw"
      },
      "source": [
        "Let's find info about DataFrames. "
      ]
    },
    {
      "cell_type": "code",
      "execution_count": 109,
      "id": "c32a2700",
      "metadata": {
        "colab": {
          "base_uri": "https://localhost:8080/"
        },
        "id": "c32a2700",
        "outputId": "8f21fe8c-d2c6-4bb0-bfed-3d88772af2bb"
      },
      "outputs": [
        {
          "name": "stdout",
          "output_type": "stream",
          "text": [
            "<class 'pandas.core.frame.DataFrame'>\n",
            "RangeIndex: 138585 entries, 0 to 138584\n",
            "Data columns (total 12 columns):\n",
            " #   Column            Non-Null Count   Dtype \n",
            "---  ------            --------------   ----- \n",
            " 0   Animal ID         138585 non-null  object\n",
            " 1   Name              97316 non-null   object\n",
            " 2   DateTime          138585 non-null  object\n",
            " 3   MonthYear         138585 non-null  object\n",
            " 4   Found Location    138585 non-null  object\n",
            " 5   Intake Type       138585 non-null  object\n",
            " 6   Intake Condition  138585 non-null  object\n",
            " 7   Animal Type       138585 non-null  object\n",
            " 8   Sex upon Intake   138584 non-null  object\n",
            " 9   Age upon Intake   138585 non-null  object\n",
            " 10  Breed             138585 non-null  object\n",
            " 11  Color             138585 non-null  object\n",
            "dtypes: object(12)\n",
            "memory usage: 12.7+ MB\n"
          ]
        }
      ],
      "source": [
        "intakes.info()"
      ]
    },
    {
      "cell_type": "code",
      "execution_count": 110,
      "id": "2e35c737",
      "metadata": {
        "colab": {
          "base_uri": "https://localhost:8080/"
        },
        "id": "2e35c737",
        "outputId": "e79b7f74-c2db-43f2-dc91-6642ba00196b"
      },
      "outputs": [
        {
          "name": "stdout",
          "output_type": "stream",
          "text": [
            "<class 'pandas.core.frame.DataFrame'>\n",
            "RangeIndex: 138769 entries, 0 to 138768\n",
            "Data columns (total 12 columns):\n",
            " #   Column            Non-Null Count   Dtype \n",
            "---  ------            --------------   ----- \n",
            " 0   Animal ID         138769 non-null  object\n",
            " 1   Name              97514 non-null   object\n",
            " 2   DateTime          138769 non-null  object\n",
            " 3   MonthYear         138769 non-null  object\n",
            " 4   Date of Birth     138769 non-null  object\n",
            " 5   Outcome Type      138746 non-null  object\n",
            " 6   Outcome Subtype   63435 non-null   object\n",
            " 7   Animal Type       138769 non-null  object\n",
            " 8   Sex upon Outcome  138768 non-null  object\n",
            " 9   Age upon Outcome  138764 non-null  object\n",
            " 10  Breed             138769 non-null  object\n",
            " 11  Color             138769 non-null  object\n",
            "dtypes: object(12)\n",
            "memory usage: 12.7+ MB\n"
          ]
        }
      ],
      "source": [
        "outcomes.info()"
      ]
    },
    {
      "cell_type": "markdown",
      "id": "XGVD8j9eZlAr",
      "metadata": {
        "id": "XGVD8j9eZlAr"
      },
      "source": [
        "Both DataFrames have similar columns, instead of 1.\n",
        "\n",
        "4th in first one called \"Found Location\" and 4th in second one \"Date of birth\".\n"
      ]
    },
    {
      "cell_type": "markdown",
      "id": "nc7nuw9-389q",
      "metadata": {
        "id": "nc7nuw9-389q"
      },
      "source": [
        "All columns have type `\"object\"`. The reason for it is importing data from csv. This import doesn't save data's type, so we need to set it manually.\n",
        "\n",
        "Also some columns have `NULL` value, so we need to set `NaN` value in those cells.\n"
      ]
    },
    {
      "cell_type": "code",
      "execution_count": 111,
      "id": "USDlKhLn89eG",
      "metadata": {
        "id": "USDlKhLn89eG"
      },
      "outputs": [],
      "source": [
        "def add_nan_values(df):\n",
        "    for idx, rows in df.iterrows():\n",
        "         for column in df.columns:\n",
        "             if type(rows[f\"{column}\"]) == float:             #NULL value has a float typem so we check cell on type\n",
        "                 if math.isnan(rows[f\"{column}\"]):            # check, if cell has NULL value\n",
        "                     rows[f\"{column}\"] = \"NaN\"\n",
        "    return df"
      ]
    },
    {
      "cell_type": "code",
      "execution_count": 112,
      "id": "Osn4pYSuMHod",
      "metadata": {
        "id": "Osn4pYSuMHod"
      },
      "outputs": [],
      "source": [
        "intakes = add_nan_values(intakes)\n",
        "outcomes = add_nan_values(outcomes)"
      ]
    },
    {
      "cell_type": "code",
      "execution_count": 113,
      "id": "6RYlqMlcP3kI",
      "metadata": {
        "colab": {
          "base_uri": "https://localhost:8080/"
        },
        "id": "6RYlqMlcP3kI",
        "outputId": "48cfe75c-3b4b-4268-d677-55516f770e88"
      },
      "outputs": [
        {
          "name": "stdout",
          "output_type": "stream",
          "text": [
            "Outcome Type: ['Rto-Adopt', 'Adoption', 'Euthanasia', 'Transfer', 'Return to Owner', 'Died', 'Disposal', 'Missing', 'Relocate', 'NaN']\n",
            "Outcome Subtype: ['NaN', 'Partner', 'Foster', 'SCRP', 'Out State', 'Suffering', 'Underage', 'Snr', 'Rabies Risk', 'In Kennel', 'Offsite', 'Aggressive', 'Enroute', 'At Vet', 'In Foster', 'Behavior', 'Medical', 'Field', 'Possible Theft', 'Barn', 'Customer S', 'Court/Investigation', 'Emer', 'In Surgery', 'Prc', 'Emergency', 'In State']\n",
            "Animal Type: ['Cat', 'Dog', 'Other', 'Bird', 'Livestock']\n",
            "Sex upon Outcome: ['Neutered Male', 'Unknown', 'Intact Male', 'Spayed Female', 'Intact Female', 'NaN']\n",
            "Age upon Outcome: ['2 years', '1 year', '4 months', '6 days', '7 years', '2 months', '2 days', '3 weeks', '9 months', '4 weeks', '2 weeks', '3 months', '9 years', '10 years', '6 months', '8 years', '3 years', '7 months', '6 years', '4 years', '1 month', '12 years', '5 years', '1 weeks', '5 months', '5 days', '15 years', '11 months', '10 months', '4 days', '16 years', '1 day', '8 months', '11 years', '13 years', '1 week', '14 years', '3 days', '0 years', '5 weeks', '17 years', '18 years', '20 years', '22 years', '-2 years', '19 years', '23 years', '24 years', '-1 years', '25 years', '21 years', '-3 years', '30 years', 'NaN', '28 years']\n"
          ]
        }
      ],
      "source": [
        "for column in outcomes.columns:\n",
        "    unique_values = list(outcomes[f'{column}'].unique())\n",
        "    if(len(unique_values) < 100):\n",
        "        print(f\"{column}: {unique_values}\")"
      ]
    },
    {
      "cell_type": "markdown",
      "id": "voFlHtTxXxRG",
      "metadata": {
        "id": "voFlHtTxXxRG"
      },
      "source": [
        "We can notice, that `Nan` values from `Outcome Type` column can be replaced on `Missing` and from `Sex upon Outcome` column replaced on `Unknown`."
      ]
    },
    {
      "cell_type": "code",
      "execution_count": 114,
      "id": "g9fHVitdY9Wu",
      "metadata": {
        "id": "g9fHVitdY9Wu"
      },
      "outputs": [],
      "source": [
        "outcomes.loc[outcomes[\"Outcome Type\"] == \"NaN\", \"Outcome Type\"] = \"Missing\"\n",
        "outcomes.loc[outcomes[\"Sex upon Outcome\"] == \"NaN\", \"Sex upon Outcome\"] = \"Unknown\""
      ]
    },
    {
      "cell_type": "code",
      "execution_count": 115,
      "id": "pBbeIRdzMWBa",
      "metadata": {
        "colab": {
          "base_uri": "https://localhost:8080/"
        },
        "id": "pBbeIRdzMWBa",
        "outputId": "cf839d50-f5b4-4088-ca08-e808173a134a"
      },
      "outputs": [
        {
          "name": "stdout",
          "output_type": "stream",
          "text": [
            "<class 'pandas.core.frame.DataFrame'>\n",
            "RangeIndex: 138585 entries, 0 to 138584\n",
            "Data columns (total 12 columns):\n",
            " #   Column            Non-Null Count   Dtype \n",
            "---  ------            --------------   ----- \n",
            " 0   Animal ID         138585 non-null  object\n",
            " 1   Name              138585 non-null  object\n",
            " 2   DateTime          138585 non-null  object\n",
            " 3   MonthYear         138585 non-null  object\n",
            " 4   Found Location    138585 non-null  object\n",
            " 5   Intake Type       138585 non-null  object\n",
            " 6   Intake Condition  138585 non-null  object\n",
            " 7   Animal Type       138585 non-null  object\n",
            " 8   Sex upon Intake   138585 non-null  object\n",
            " 9   Age upon Intake   138585 non-null  object\n",
            " 10  Breed             138585 non-null  object\n",
            " 11  Color             138585 non-null  object\n",
            "dtypes: object(12)\n",
            "memory usage: 12.7+ MB\n"
          ]
        }
      ],
      "source": [
        "intakes.info()"
      ]
    },
    {
      "cell_type": "code",
      "execution_count": 116,
      "id": "O8lLc0trMcQv",
      "metadata": {
        "colab": {
          "base_uri": "https://localhost:8080/"
        },
        "id": "O8lLc0trMcQv",
        "outputId": "07c95dd9-14b4-42fe-cac2-aeae30a4900e"
      },
      "outputs": [
        {
          "name": "stdout",
          "output_type": "stream",
          "text": [
            "<class 'pandas.core.frame.DataFrame'>\n",
            "RangeIndex: 138769 entries, 0 to 138768\n",
            "Data columns (total 12 columns):\n",
            " #   Column            Non-Null Count   Dtype \n",
            "---  ------            --------------   ----- \n",
            " 0   Animal ID         138769 non-null  object\n",
            " 1   Name              138769 non-null  object\n",
            " 2   DateTime          138769 non-null  object\n",
            " 3   MonthYear         138769 non-null  object\n",
            " 4   Date of Birth     138769 non-null  object\n",
            " 5   Outcome Type      138769 non-null  object\n",
            " 6   Outcome Subtype   138769 non-null  object\n",
            " 7   Animal Type       138769 non-null  object\n",
            " 8   Sex upon Outcome  138769 non-null  object\n",
            " 9   Age upon Outcome  138769 non-null  object\n",
            " 10  Breed             138769 non-null  object\n",
            " 11  Color             138769 non-null  object\n",
            "dtypes: object(12)\n",
            "memory usage: 12.7+ MB\n"
          ]
        }
      ],
      "source": [
        "outcomes.info()"
      ]
    },
    {
      "cell_type": "markdown",
      "id": "vH7dOxUPIIeb",
      "metadata": {
        "id": "vH7dOxUPIIeb"
      },
      "source": [
        "Now we don't have NULL values. All cells have original value or NaN"
      ]
    },
    {
      "cell_type": "markdown",
      "id": "60O-x9-q_NCN",
      "metadata": {
        "id": "60O-x9-q_NCN"
      },
      "source": [
        "Now I want to create functions for splitting columns `MonthYear` and `DateTime`\n",
        "\n",
        "Both this columns have structure like `\"smth smth\"`. So I will split it by whitespace. And I'll get new columns `\"Month\", \"Year\", \"Date\", \"Time\"`"
      ]
    },
    {
      "cell_type": "code",
      "execution_count": 117,
      "id": "hBRwMxMrZmnk",
      "metadata": {
        "id": "hBRwMxMrZmnk"
      },
      "outputs": [],
      "source": [
        "def split_month_year(df, t):\n",
        "    df = df.assign(Month = \"\")\n",
        "    df = df.assign(Year = \"\")\n",
        "    for idx, rows in df.iterrows():\n",
        "        l = (rows[\"MonthYear\"]).split(\" \")\n",
        "        rows.Month = l[0]\n",
        "        rows.Year = l[1]\n",
        "    df = df.rename({\"MonthYear\":f\"MonthYear {t}\"})\n",
        "    df = df.rename({\"Month\":f\"Month {t}\"})\n",
        "    df = df.rename({\"Year\":f\"Year {t}\"})\n",
        "    \n",
        "    return df"
      ]
    },
    {
      "cell_type": "code",
      "execution_count": 118,
      "id": "IhAqE287cDAZ",
      "metadata": {
        "id": "IhAqE287cDAZ"
      },
      "outputs": [],
      "source": [
        "def split_date_time(df, t):\n",
        "    df = df.assign(Date = \"\")\n",
        "    df = df.assign(Time = \"\")\n",
        "    for idx, rows in df.iterrows():\n",
        "        l = (rows.DateTime).split(\" \")\n",
        "        rows.Date = l[0]\n",
        "        rows.Time = l[1]\n",
        "    df = df.rename(columns={\"DateTime\":f\"DateTime {t}\"})\n",
        "    df = df.rename(columns={\"Date\":f\"Date {t}\"})\n",
        "    df = df.rename(columns={\"Time\":f\"Time {t}\"})\n",
        "    return df"
      ]
    },
    {
      "cell_type": "code",
      "execution_count": 119,
      "id": "Wzs197zFbdmH",
      "metadata": {
        "id": "Wzs197zFbdmH"
      },
      "outputs": [],
      "source": [
        "intakes = split_month_year(intakes, \"Intake\")\n",
        "outcomes = split_month_year(outcomes, \"Outcome\")"
      ]
    },
    {
      "cell_type": "code",
      "execution_count": 120,
      "id": "JJhCViTmcWIO",
      "metadata": {
        "id": "JJhCViTmcWIO"
      },
      "outputs": [],
      "source": [
        "intakes = split_date_time(intakes, \"Intakes\")\n",
        "outcomes = split_date_time(outcomes, \"Outcome\")"
      ]
    },
    {
      "cell_type": "markdown",
      "id": "SfLmWNTBABUe",
      "metadata": {
        "id": "SfLmWNTBABUe"
      },
      "source": [
        "Now I want to make fucntion for dropping columns, cause I wanted to drop splitted columns, and I'll need it in next steps"
      ]
    },
    {
      "cell_type": "code",
      "execution_count": 121,
      "id": "aiXlIsS2feCS",
      "metadata": {
        "id": "aiXlIsS2feCS"
      },
      "outputs": [],
      "source": [
        "def drop_column(columns, df):\n",
        "    for i in columns:\n",
        "        df.drop(i, inplace=True, axis=1)\n",
        "    return df"
      ]
    },
    {
      "cell_type": "code",
      "execution_count": 122,
      "id": "F2kKXO_xfF51",
      "metadata": {
        "id": "F2kKXO_xfF51"
      },
      "outputs": [],
      "source": [
        "intakes = drop_column([\"MonthYear\"], intakes)\n",
        "outcomes = drop_column([\"MonthYear\"], outcomes)"
      ]
    },
    {
      "cell_type": "markdown",
      "id": "GmDS5Em7AYyE",
      "metadata": {
        "id": "GmDS5Em7AYyE"
      },
      "source": [
        "I've noticed, that in column `\"Color\"`, we have combinations, so I want to split colors.  "
      ]
    },
    {
      "cell_type": "code",
      "execution_count": 123,
      "id": "mP-Uj5Ve1b6P",
      "metadata": {
        "id": "mP-Uj5Ve1b6P"
      },
      "outputs": [],
      "source": [
        "intakes = intakes.rename(columns={\"Color\":\"Color Combination\"})\n",
        "outcomes = outcomes.rename(columns={\"Color\":\"Color Combination\"})"
      ]
    },
    {
      "cell_type": "markdown",
      "id": "meDExgzmIAmi",
      "metadata": {
        "id": "meDExgzmIAmi"
      },
      "source": [
        "Now I want to create new column` \"Color List\"`, which will contain `list()` of a colors, from `\"Color Combination\"`\n",
        "\n",
        "Dictionary `colors` will have a structure: \n",
        "\n",
        "\n",
        "*   `key` - color\n",
        "*   `value` - how many times the color was occurred \n"
      ]
    },
    {
      "cell_type": "code",
      "execution_count": 124,
      "id": "lXbc-8oSN4cj",
      "metadata": {
        "colab": {
          "base_uri": "https://localhost:8080/"
        },
        "id": "lXbc-8oSN4cj",
        "outputId": "91928ab2-81cf-4bc4-8e12-59bb0cfc0cab"
      },
      "outputs": [
        {
          "name": "stdout",
          "output_type": "stream",
          "text": [
            "{'Tricolor': 4243, 'Liver': 42, 'White': 48968, 'Calico': 2381, 'Gray': 2164, 'Chocolate': 768, 'Black': 21007, 'Brown Tabby': 8536, 'Cream Tabby': 988, 'Tan': 10015, 'Torbie': 1583, 'Tortie': 2469, 'Cream': 1262, 'Brown': 12490, 'Blue': 3183, 'Red': 2164, 'Gray Tabby': 405, 'Brown Merle': 176, 'Orange Tabby': 4080, 'Brown Brindle': 1962, 'Blue Tabby': 2157, 'Yellow': 845, 'Red Tick': 178, 'Lynx Point': 723, 'Blue Merle': 359, 'Black Brindle': 187, 'Buff': 709, 'Silver': 172, 'Black Tabby': 263, 'Black Smoke': 210, 'Silver Tabby': 109, 'Sable': 636, 'Blue Tick': 197, 'Seal Point': 519, 'Fawn': 381, 'Apricot': 88, 'Brown Tiger': 26, 'Orange': 353, 'Blue Cream': 105, 'Red Merle': 107, 'Lilac Point': 152, 'Pink': 67, 'Gold': 227, 'Flame Point': 332, 'Chocolate Point': 79, 'Blue Point': 81, 'Tortie Point': 150, 'Black Tiger': 8, 'Yellow Brindle': 51, 'Green': 57, 'Silver Lynx Point': 24, 'Calico Point': 60, 'Blue Smoke': 16, 'Liver Tick': 19, 'Blue Tiger': 14, 'Agouti': 31, 'Cream Tiger': 1, 'Orange Tiger': 4, 'Gray Tiger': 2}\n"
          ]
        }
      ],
      "source": [
        "colors = {} #dictionary, which will count colors    \n",
        "def color_to_list(df):\n",
        "\n",
        "    global colors\n",
        "    df[\"Color List\"] = \"\"\n",
        "\n",
        "    for idx, rows in df.iterrows():\n",
        "         l_colors = rows[\"Color Combination\"]\n",
        "         l_colors = l_colors.split('/')\n",
        "         rows[\"Color List\"] = l_colors\n",
        "         if(len(l_colors) == 1):\n",
        "             if l_colors[0] in colors:\n",
        "                 colors[l_colors[0]]+=1\n",
        "             else:\n",
        "                 colors[l_colors[0]] = 1\n",
        "         else:\n",
        "             if l_colors[1] in colors:\n",
        "                 colors[l_colors[1]]+=1\n",
        "             else:\n",
        "                 colors[l_colors[1]] = 1\n",
        "    return df\n",
        "intakes = color_to_list(intakes)\n",
        "print(colors)"
      ]
    },
    {
      "cell_type": "markdown",
      "id": "K_HvspRCAxRH",
      "metadata": {
        "id": "K_HvspRCAxRH"
      },
      "source": [
        "Age we need to transform in a common form, the best form, I guess, will be days, so let's transform it to days"
      ]
    },
    {
      "cell_type": "markdown",
      "id": "XiHTdkBwLWpo",
      "metadata": {
        "id": "XiHTdkBwLWpo"
      },
      "source": [
        "All ages contains words `day(-s), week(-s), month(-s), year(-s)`, so we will check just common form. \n",
        "\n",
        "For instance, `day` for `day, days `"
      ]
    },
    {
      "cell_type": "code",
      "execution_count": 125,
      "id": "HZMf94MFcDab",
      "metadata": {
        "id": "HZMf94MFcDab"
      },
      "outputs": [],
      "source": [
        "def age_to_days(df, t):\n",
        "    for idx, rows in df.iterrows():\n",
        "        s = str(rows[f\"Age upon {t}\"])\n",
        "        res = 0\n",
        "        if \"day\" in s:\n",
        "            res = (s.split(' '))[0]\n",
        "        if \"week\" in s:\n",
        "            res = abs(int((s.split(' '))[0])) * 7\n",
        "        if \"month\" in s:\n",
        "            res = abs(int((s.split(' '))[0])) * 30\n",
        "        if \"year\" in s:\n",
        "            res = abs(int((s.split(' '))[0])) * 365\n",
        "        rows[f\"Age upon {t}\"] = res\n",
        "    return df\n",
        "intakes = age_to_days(intakes, \"Intake\")\n",
        "outcomes = age_to_days(outcomes, \"Outcome\")"
      ]
    },
    {
      "cell_type": "markdown",
      "id": "vQWeXkZcBz8U",
      "metadata": {
        "id": "vQWeXkZcBz8U"
      },
      "source": [
        "Information about unique values will help us to analyse dataframes and to change type of columns"
      ]
    },
    {
      "cell_type": "code",
      "execution_count": 126,
      "id": "w8jVSnPbWu3e",
      "metadata": {
        "colab": {
          "base_uri": "https://localhost:8080/"
        },
        "id": "w8jVSnPbWu3e",
        "outputId": "e8ee99c6-63fa-45e6-ecaf-15a91e92bedb"
      },
      "outputs": [
        {
          "name": "stdout",
          "output_type": "stream",
          "text": [
            "Animal ID has 123890 unique values\n",
            "Name has 23545 unique values\n",
            "DateTime Intakes has 97442 unique values\n",
            "Found Location has 58367 unique values\n",
            "Intake Type has 6 unique values\n",
            "Intake Condition has 15 unique values\n",
            "Animal Type has 5 unique values\n",
            "Sex upon Intake has 6 unique values\n",
            "Age upon Intake has 50 unique values\n",
            "Breed has 2741 unique values\n",
            "Color Combination has 616 unique values\n",
            "Month has 12 unique values\n",
            "Year has 10 unique values\n",
            "Date Intakes has 3128 unique values\n",
            "Time Intakes has 720 unique values\n",
            "For Color List we can't use .unique() due to list type\n"
          ]
        }
      ],
      "source": [
        "for i in intakes.columns:\n",
        "    try:\n",
        "        print(f\"{i} has {len(intakes[i].unique())} unique values\")\n",
        "    except:\n",
        "        print(f\"For {i} we can't use .unique() due to list type\")"
      ]
    },
    {
      "cell_type": "markdown",
      "id": "sOw1H29GC4bs",
      "metadata": {
        "id": "sOw1H29GC4bs"
      },
      "source": [
        "Hmm, column Animal ID has less unique values, than rows in intakes. It means, that some Animal ID's are in dataframe more than one time. Let's check it"
      ]
    },
    {
      "cell_type": "code",
      "execution_count": 127,
      "id": "2Bng7ecGDTLt",
      "metadata": {
        "colab": {
          "base_uri": "https://localhost:8080/"
        },
        "id": "2Bng7ecGDTLt",
        "outputId": "64fe0cdf-ea15-4b5f-bd09-6e148eed95a2"
      },
      "outputs": [
        {
          "name": "stdout",
          "output_type": "stream",
          "text": [
            "11235\n"
          ]
        }
      ],
      "source": [
        "unique_id = set(intakes[\"Animal ID\"].unique())\n",
        "ids = {}\n",
        "not_unique_id = []\n",
        "for id in unique_id:\n",
        "    ids[id] = 0\n",
        "for i in intakes[\"Animal ID\"]:\n",
        "    ids[i]+=1\n",
        "count = 0\n",
        "for i in unique_id:\n",
        "    if ids[i]>1:\n",
        "        not_unique_id.append(i)\n",
        "        #print(f\"{i}: {ids[i]}\")\n",
        "        count+=1\n",
        "print(count)"
      ]
    },
    {
      "cell_type": "markdown",
      "id": "ff-Y9t4UHVTK",
      "metadata": {
        "id": "ff-Y9t4UHVTK"
      },
      "source": [
        "Does it mean, that 11235 animal were in shelter more than one time? Let's check it "
      ]
    },
    {
      "cell_type": "code",
      "execution_count": 128,
      "id": "g5jNwn1nIASY",
      "metadata": {
        "colab": {
          "base_uri": "https://localhost:8080/"
        },
        "id": "g5jNwn1nIASY",
        "outputId": "8855dfcc-e163-40a8-a105-3fd3ad0687d5"
      },
      "outputs": [
        {
          "name": "stdout",
          "output_type": "stream",
          "text": [
            "    Animal ID  Name        DateTime Intakes  \\\n",
            "843   A716018  Luke  11/13/2015 10:46:00 AM   \n",
            "\n",
            "                                      Found Location Intake Type  \\\n",
            "843  Roseborough Dr And Running Water in Austin (TX)       Stray   \n",
            "\n",
            "    Intake Condition Animal Type Sex upon Intake Age upon Intake  \\\n",
            "843           Normal         Dog     Intact Male             120   \n",
            "\n",
            "            Breed Color Combination     Month  Year Date Intakes Time Intakes  \\\n",
            "843  Pit Bull Mix        Fawn/White  November  2015   11/13/2015     10:46:00   \n",
            "\n",
            "        Color List  \n",
            "843  [Fawn, White]  \n",
            "     Animal ID  Name        DateTime Intakes  \\\n",
            "4034   A716018  Luke  03/05/2017 03:42:00 PM   \n",
            "\n",
            "                              Found Location Intake Type Intake Condition  \\\n",
            "4034  Loyola Ln. & Decker Ln. in Austin (TX)       Stray           Normal   \n",
            "\n",
            "     Animal Type Sex upon Intake Age upon Intake         Breed  \\\n",
            "4034         Dog   Neutered Male             365  Pit Bull Mix   \n",
            "\n",
            "     Color Combination  Month  Year Date Intakes Time Intakes     Color List  \n",
            "4034        Fawn/White  March  2017   03/05/2017     03:42:00  [Fawn, White]  \n",
            "     Animal ID  Name        DateTime Intakes  \\\n",
            "7199   A716018  Luke  03/02/2017 09:19:00 AM   \n",
            "\n",
            "                         Found Location Intake Type Intake Condition  \\\n",
            "7199  Decker Ln & Loyola in Austin (TX)       Stray           Normal   \n",
            "\n",
            "     Animal Type Sex upon Intake Age upon Intake         Breed  \\\n",
            "7199         Dog   Neutered Male             365  Pit Bull Mix   \n",
            "\n",
            "     Color Combination  Month  Year Date Intakes Time Intakes     Color List  \n",
            "7199        Fawn/White  March  2017   03/02/2017     09:19:00  [Fawn, White]  \n",
            "      Animal ID  Name        DateTime Intakes Found Location      Intake Type  \\\n",
            "17190   A716018  Luke  03/16/2018 03:19:00 PM    Austin (TX)  Owner Surrender   \n",
            "\n",
            "      Intake Condition Animal Type Sex upon Intake Age upon Intake  \\\n",
            "17190           Normal         Dog   Neutered Male             730   \n",
            "\n",
            "              Breed Color Combination  Month  Year Date Intakes Time Intakes  \\\n",
            "17190  Pit Bull Mix        Fawn/White  March  2018   03/16/2018     03:19:00   \n",
            "\n",
            "          Color List  \n",
            "17190  [Fawn, White]  \n",
            "      Animal ID  Name        DateTime Intakes              Found Location  \\\n",
            "41501   A716018  Luke  09/12/2016 06:11:00 PM  8509 Fm 969 in Austin (TX)   \n",
            "\n",
            "      Intake Type Intake Condition Animal Type Sex upon Intake  \\\n",
            "41501       Stray           Normal         Dog   Neutered Male   \n",
            "\n",
            "      Age upon Intake         Breed Color Combination      Month  Year  \\\n",
            "41501             365  Pit Bull Mix        Fawn/White  September  2016   \n",
            "\n",
            "      Date Intakes Time Intakes     Color List  \n",
            "41501   09/12/2016     06:11:00  [Fawn, White]  \n",
            "      Animal ID  Name        DateTime Intakes Found Location      Intake Type  \\\n",
            "77202   A716018  Luke  05/07/2016 11:52:00 AM    Austin (TX)  Owner Surrender   \n",
            "\n",
            "      Intake Condition Animal Type Sex upon Intake Age upon Intake  \\\n",
            "77202           Normal         Dog   Neutered Male             300   \n",
            "\n",
            "              Breed Color Combination Month  Year Date Intakes Time Intakes  \\\n",
            "77202  Pit Bull Mix        Fawn/White   May  2016   05/07/2016     11:52:00   \n",
            "\n",
            "          Color List  \n",
            "77202  [Fawn, White]  \n",
            "      Animal ID  Name        DateTime Intakes  \\\n",
            "79370   A716018  Luke  10/17/2016 02:06:00 PM   \n",
            "\n",
            "                        Found Location Intake Type Intake Condition  \\\n",
            "79370  6200 Loyola Lane in Austin (TX)       Stray           Normal   \n",
            "\n",
            "      Animal Type Sex upon Intake Age upon Intake         Breed  \\\n",
            "79370         Dog   Neutered Male             365  Pit Bull Mix   \n",
            "\n",
            "      Color Combination    Month  Year Date Intakes Time Intakes  \\\n",
            "79370        Fawn/White  October  2016   10/17/2016     02:06:00   \n",
            "\n",
            "          Color List  \n",
            "79370  [Fawn, White]  \n",
            "      Animal ID  Name        DateTime Intakes  \\\n",
            "79398   A716018  Luke  04/15/2016 10:30:00 PM   \n",
            "\n",
            "                            Found Location Intake Type Intake Condition  \\\n",
            "79398  7413 Crepe Myrtle Dr in Austin (TX)       Stray           Normal   \n",
            "\n",
            "      Animal Type Sex upon Intake Age upon Intake         Breed  \\\n",
            "79398         Dog     Intact Male             300  Pit Bull Mix   \n",
            "\n",
            "      Color Combination  Month  Year Date Intakes Time Intakes     Color List  \n",
            "79398        Fawn/White  April  2016   04/15/2016     10:30:00  [Fawn, White]  \n",
            "       Animal ID  Name        DateTime Intakes                 Found Location  \\\n",
            "111452   A716018  Luke  12/12/2017 11:01:00 AM  6804 Lucy Cove in Austin (TX)   \n",
            "\n",
            "       Intake Type Intake Condition Animal Type Sex upon Intake  \\\n",
            "111452       Stray           Normal         Dog   Neutered Male   \n",
            "\n",
            "       Age upon Intake         Breed Color Combination     Month  Year  \\\n",
            "111452             730  Pit Bull Mix        Fawn/White  December  2017   \n",
            "\n",
            "       Date Intakes Time Intakes     Color List  \n",
            "111452   12/12/2017     11:01:00  [Fawn, White]  \n"
          ]
        }
      ],
      "source": [
        "for idx, rows in intakes.iterrows():\n",
        "    if rows[\"Animal ID\"] in not_unique_id[0]:\n",
        "        print(intakes.loc[[idx]])\n"
      ]
    },
    {
      "cell_type": "markdown",
      "id": "4krz09T8KU8K",
      "metadata": {
        "id": "4krz09T8KU8K"
      },
      "source": [
        "Yes, we can notice, that some animals were in the shelter more than one time. So we will use this fact in a future"
      ]
    },
    {
      "cell_type": "code",
      "execution_count": 129,
      "id": "-28vZgV4bijC",
      "metadata": {
        "colab": {
          "base_uri": "https://localhost:8080/"
        },
        "id": "-28vZgV4bijC",
        "outputId": "e9809788-d5db-4d90-e59f-a5c88048d8cf"
      },
      "outputs": [
        {
          "name": "stdout",
          "output_type": "stream",
          "text": [
            "<class 'pandas.core.frame.DataFrame'>\n",
            "Int64Index: 138585 entries, 0 to 138584\n",
            "Data columns (total 16 columns):\n",
            " #   Column             Non-Null Count   Dtype \n",
            "---  ------             --------------   ----- \n",
            " 0   Animal ID          138585 non-null  object\n",
            " 1   Name               138585 non-null  object\n",
            " 2   DateTime Intakes   138585 non-null  object\n",
            " 3   Found Location     138585 non-null  object\n",
            " 4   Intake Type        138585 non-null  object\n",
            " 5   Intake Condition   138585 non-null  object\n",
            " 6   Animal Type        138585 non-null  object\n",
            " 7   Sex upon Intake    138585 non-null  object\n",
            " 8   Age upon Intake    138585 non-null  object\n",
            " 9   Breed              138585 non-null  object\n",
            " 10  Color Combination  138585 non-null  object\n",
            " 11  Month              138585 non-null  object\n",
            " 12  Year               138585 non-null  object\n",
            " 13  Date Intakes       138585 non-null  object\n",
            " 14  Time Intakes       138585 non-null  object\n",
            " 15  Color List         138585 non-null  object\n",
            "dtypes: object(16)\n",
            "memory usage: 22.0+ MB\n",
            "<class 'pandas.core.frame.DataFrame'>\n",
            "Int64Index: 138769 entries, 0 to 138768\n",
            "Data columns (total 15 columns):\n",
            " #   Column             Non-Null Count   Dtype \n",
            "---  ------             --------------   ----- \n",
            " 0   Animal ID          138769 non-null  object\n",
            " 1   Name               138769 non-null  object\n",
            " 2   DateTime Outcome   138769 non-null  object\n",
            " 3   Date of Birth      138769 non-null  object\n",
            " 4   Outcome Type       138769 non-null  object\n",
            " 5   Outcome Subtype    138769 non-null  object\n",
            " 6   Animal Type        138769 non-null  object\n",
            " 7   Sex upon Outcome   138769 non-null  object\n",
            " 8   Age upon Outcome   138769 non-null  object\n",
            " 9   Breed              138769 non-null  object\n",
            " 10  Color Combination  138769 non-null  object\n",
            " 11  Month              138769 non-null  object\n",
            " 12  Year               138769 non-null  object\n",
            " 13  Date Outcome       138769 non-null  object\n",
            " 14  Time Outcome       138769 non-null  object\n",
            "dtypes: object(15)\n",
            "memory usage: 16.9+ MB\n"
          ]
        }
      ],
      "source": [
        "intakes.info()\n",
        "outcomes.info()"
      ]
    },
    {
      "cell_type": "markdown",
      "id": "vEzZhT5vK-oy",
      "metadata": {
        "id": "vEzZhT5vK-oy"
      },
      "source": [
        "Now we need to set correct datatypes for columns"
      ]
    },
    {
      "cell_type": "code",
      "execution_count": 130,
      "id": "OgSQrBBDXwVN",
      "metadata": {
        "id": "OgSQrBBDXwVN"
      },
      "outputs": [],
      "source": [
        "intakes = intakes.astype({\"Year\": int})\n",
        "outcomes = outcomes.astype({\"Year\": int})\n",
        "\n",
        "intakes = intakes.astype({\"DateTime Intakes\": np.datetime64})\n",
        "outcomes = outcomes.astype({\"DateTime Outcome\": np.datetime64})\n",
        "\n",
        "intakes = intakes.astype({\"Age upon Intake\": int})\n",
        "\n",
        "intakes = intakes.astype({\"Sex upon Intake\": \"category\"})\n",
        "intakes = intakes.astype({\"Intake Type\": \"category\"})\n",
        "intakes = intakes.astype({\"Intake Condition\": \"category\"})\n",
        "intakes = intakes.astype({\"Animal Type\": \"category\"})\n",
        "intakes = intakes.astype({\"Breed\": \"category\"})"
      ]
    },
    {
      "cell_type": "code",
      "execution_count": 131,
      "id": "iu8QL1LznjgT",
      "metadata": {
        "colab": {
          "base_uri": "https://localhost:8080/"
        },
        "id": "iu8QL1LznjgT",
        "outputId": "9fa6d3e9-7b8d-4575-c257-36394c8b8fee"
      },
      "outputs": [
        {
          "name": "stdout",
          "output_type": "stream",
          "text": [
            "<class 'pandas.core.frame.DataFrame'>\n",
            "Int64Index: 138585 entries, 0 to 138584\n",
            "Data columns (total 16 columns):\n",
            " #   Column             Non-Null Count   Dtype         \n",
            "---  ------             --------------   -----         \n",
            " 0   Animal ID          138585 non-null  object        \n",
            " 1   Name               138585 non-null  object        \n",
            " 2   DateTime Intakes   138585 non-null  datetime64[ns]\n",
            " 3   Found Location     138585 non-null  object        \n",
            " 4   Intake Type        138585 non-null  category      \n",
            " 5   Intake Condition   138585 non-null  category      \n",
            " 6   Animal Type        138585 non-null  category      \n",
            " 7   Sex upon Intake    138585 non-null  category      \n",
            " 8   Age upon Intake    138585 non-null  int64         \n",
            " 9   Breed              138585 non-null  category      \n",
            " 10  Color Combination  138585 non-null  object        \n",
            " 11  Month              138585 non-null  object        \n",
            " 12  Year               138585 non-null  int64         \n",
            " 13  Date Intakes       138585 non-null  object        \n",
            " 14  Time Intakes       138585 non-null  object        \n",
            " 15  Color List         138585 non-null  object        \n",
            "dtypes: category(5), datetime64[ns](1), int64(2), object(8)\n",
            "memory usage: 17.6+ MB\n"
          ]
        }
      ],
      "source": [
        "intakes.info()"
      ]
    },
    {
      "cell_type": "code",
      "execution_count": 132,
      "id": "TbiVWJiNPLLn",
      "metadata": {
        "colab": {
          "base_uri": "https://localhost:8080/"
        },
        "id": "TbiVWJiNPLLn",
        "outputId": "8c7ce479-d722-45ce-e640-ca6b9026795b"
      },
      "outputs": [
        {
          "name": "stdout",
          "output_type": "stream",
          "text": [
            "Animal ID has 124068 unique values\n",
            "Name has 23426 unique values\n",
            "DateTime Outcome has 115364 unique values\n",
            "Date of Birth has 7576 unique values\n",
            "Outcome Type has 9 unique values\n",
            "Outcome Subtype has 27 unique values\n",
            "Animal Type has 5 unique values\n",
            "Sex upon Outcome has 5 unique values\n",
            "Age upon Outcome has 50 unique values\n",
            "Breed has 2749 unique values\n",
            "Color Combination has 619 unique values\n",
            "Month has 12 unique values\n",
            "Year has 10 unique values\n",
            "Date Outcome has 3119 unique values\n",
            "Time Outcome has 720 unique values\n"
          ]
        }
      ],
      "source": [
        "for i in outcomes.columns:\n",
        "    try:\n",
        "        print(f\"{i} has {len(outcomes[i].unique())} unique values\")\n",
        "    except:\n",
        "        print(f\"For {i} we can't use .unique() due to list type\")"
      ]
    },
    {
      "cell_type": "code",
      "execution_count": 133,
      "id": "H1JTkmccNXkq",
      "metadata": {
        "colab": {
          "base_uri": "https://localhost:8080/"
        },
        "id": "H1JTkmccNXkq",
        "outputId": "a879802e-ec1e-4951-b2e5-ea3db03ef0d2"
      },
      "outputs": [
        {
          "name": "stdout",
          "output_type": "stream",
          "text": [
            "<class 'pandas.core.frame.DataFrame'>\n",
            "Int64Index: 138769 entries, 0 to 138768\n",
            "Data columns (total 15 columns):\n",
            " #   Column             Non-Null Count   Dtype         \n",
            "---  ------             --------------   -----         \n",
            " 0   Animal ID          138769 non-null  object        \n",
            " 1   Name               138769 non-null  object        \n",
            " 2   DateTime Outcome   138769 non-null  datetime64[ns]\n",
            " 3   Date of Birth      138769 non-null  datetime64[ns]\n",
            " 4   Outcome Type       138769 non-null  category      \n",
            " 5   Outcome Subtype    138769 non-null  category      \n",
            " 6   Animal Type        138769 non-null  category      \n",
            " 7   Sex upon Outcome   138769 non-null  category      \n",
            " 8   Age upon Outcome   138769 non-null  object        \n",
            " 9   Breed              138769 non-null  category      \n",
            " 10  Color Combination  138769 non-null  object        \n",
            " 11  Month              138769 non-null  object        \n",
            " 12  Year               138769 non-null  int64         \n",
            " 13  Date Outcome       138769 non-null  object        \n",
            " 14  Time Outcome       138769 non-null  object        \n",
            "dtypes: category(5), datetime64[ns](2), int64(1), object(7)\n",
            "memory usage: 12.5+ MB\n"
          ]
        }
      ],
      "source": [
        "outcomes = outcomes.astype({\"Date of Birth\": np.datetime64})\n",
        "outcomes = outcomes.astype({\"Date of Birth\": np.datetime64})\n",
        "\n",
        "outcomes = outcomes.astype({\"Outcome Type\": \"category\"})\n",
        "outcomes = outcomes.astype({\"Outcome Subtype\": \"category\"})\n",
        "outcomes = outcomes.astype({\"Animal Type\": \"category\"})\n",
        "outcomes = outcomes.astype({\"Breed\": \"category\"})\n",
        "outcomes = outcomes.astype({\"Sex upon Outcome\": \"category\"})\n",
        "\n",
        "outcomes.info()"
      ]
    },
    {
      "cell_type": "markdown",
      "id": "_-ROg6kyObge",
      "metadata": {
        "id": "_-ROg6kyObge"
      },
      "source": [
        "Let's check, which columns in both dataframes are same and which are different. It will help us in merging two dataframes \n"
      ]
    },
    {
      "cell_type": "code",
      "execution_count": 134,
      "id": "L7qbaUJDOaGY",
      "metadata": {
        "colab": {
          "base_uri": "https://localhost:8080/"
        },
        "id": "L7qbaUJDOaGY",
        "outputId": "414c22b4-5905-4caf-8ed6-6d839c9b9196"
      },
      "outputs": [
        {
          "name": "stdout",
          "output_type": "stream",
          "text": [
            "Different: \n",
            "DateTime Intakes\n",
            "Found Location\n",
            "Intake Type\n",
            "Intake Condition\n",
            "Sex upon Intake\n",
            "Age upon Intake\n",
            "Date Intakes\n",
            "Time Intakes\n",
            "Color List\n",
            "DateTime Outcome\n",
            "Date of Birth\n",
            "Outcome Type\n",
            "Outcome Subtype\n",
            "Sex upon Outcome\n",
            "Age upon Outcome\n",
            "Date Outcome\n",
            "Time Outcome\n",
            "\n",
            "Same: \n",
            "Animal ID\n",
            "Name\n",
            "Animal Type\n",
            "Breed\n",
            "Color Combination\n",
            "Month\n",
            "Year\n"
          ]
        }
      ],
      "source": [
        "columns_intakes = []\n",
        "columns_outcomes = []\n",
        "for i in intakes.columns:\n",
        "    columns_intakes.append(i)\n",
        "for i in outcomes.columns:\n",
        "    columns_outcomes.append(i)\n",
        "diff = []\n",
        "same = []\n",
        "for i in columns_intakes:\n",
        "    if i not in columns_outcomes:\n",
        "        diff.append(i)\n",
        "        #intakes = intakes.rename(columns={f\"{i}\":f\"Intakes {i}\"})\n",
        "    else:\n",
        "        same.append(i)\n",
        "for i in columns_outcomes:\n",
        "    if i not in columns_intakes:\n",
        "        diff.append(i)\n",
        "        #outcomes = outcomes.rename(columns={f\"{i}\":f\"Outcomes {i}\"})\n",
        "#same = list(dict.fromkeys(same)) # delete duplicates\n",
        "print(\"Different: \")\n",
        "for i in diff:\n",
        "    print(i)\n",
        "print(\"\\nSame: \")\n",
        "for i in same:\n",
        "    print(i)"
      ]
    },
    {
      "cell_type": "code",
      "execution_count": 135,
      "id": "jFHLL7SqOuWf",
      "metadata": {
        "colab": {
          "base_uri": "https://localhost:8080/"
        },
        "id": "jFHLL7SqOuWf",
        "outputId": "a2144595-f0e8-452d-8391-8428d75d7cfb"
      },
      "outputs": [
        {
          "name": "stdout",
          "output_type": "stream",
          "text": [
            "Amount of pets in df1 must be: 123254\n",
            "Amount of pets in df2 must be: 814\n"
          ]
        }
      ],
      "source": [
        "id_intakes = set(intakes[\"Animal ID\"])\n",
        "id_outcomes = set(outcomes[\"Animal ID\"])\n",
        "print(f\"Amount of pets in df1 must be: {len(id_intakes&id_outcomes)}\")\n",
        "print(f\"Amount of pets in df2 must be: {len(id_outcomes-id_intakes)}\")"
      ]
    },
    {
      "cell_type": "markdown",
      "id": "OOCRvtdINIp3",
      "metadata": {
        "id": "OOCRvtdINIp3"
      },
      "source": [
        "Due to some pets wer in a shelter more than one time, it will be really difficult to merge dataframes. So I plan to continue working with original dataframes."
      ]
    },
    {
      "cell_type": "markdown",
      "id": "YMIQp_x9Oy0R",
      "metadata": {
        "id": "YMIQp_x9Oy0R"
      },
      "source": [
        "Let's look, how many times pets from `intakes` dataframe were in shelter more than once. I had dictionary `ids`, so let's use it to get data."
      ]
    },
    {
      "cell_type": "code",
      "execution_count": 136,
      "id": "KJV7Aud7PbM_",
      "metadata": {
        "colab": {
          "base_uri": "https://localhost:8080/"
        },
        "id": "KJV7Aud7PbM_",
        "outputId": "cab8495f-f904-49e0-fb6d-406e2d572e8a"
      },
      "outputs": [
        {
          "name": "stdout",
          "output_type": "stream",
          "text": [
            "2 visits: 8897 pets: 79.19003%\n",
            "3 visits: 1664 pets: 14.81086%\n",
            "4 visits: 451 pets: 4.01424%\n",
            "5 visits: 118 pets: 1.05029%\n",
            "6 visits: 50 pets: 0.44504%\n",
            "7 visits: 34 pets: 0.30263%\n",
            "8 visits: 11 pets: 0.09791%\n",
            "9 visits: 6 pets: 0.0534%\n",
            "11 visits: 1 pets: 0.0089%\n",
            "12 visits: 1 pets: 0.0089%\n",
            "14 visits: 1 pets: 0.0089%\n",
            "33 visits: 1 pets: 0.0089%\n"
          ]
        }
      ],
      "source": [
        "visits_amounts = {}\n",
        "visits = np.array(list(ids.values()))\n",
        "#visits = np.array(ids.values()).unique()\n",
        "visits = list(np.unique(visits))\n",
        "counter = 0\n",
        "for key in visits:\n",
        "    visits_amounts[key] = 0\n",
        "for id in ids:\n",
        "    visits_amounts[ids[id]]+=1\n",
        "    if ids[id]>1:\n",
        "        counter+=1\n",
        "amounts = list(visits_amounts.values())\n",
        "\n",
        "visits.remove(1)\n",
        "amounts = amounts[1:]\n",
        "for i in visits:\n",
        "    print(f\"{i} visits: {visits_amounts[i]} pets: {round(visits_amounts[i]/counter*100, 5)}%\")"
      ]
    },
    {
      "cell_type": "markdown",
      "id": "U_Eadk-zOtSe",
      "metadata": {
        "id": "U_Eadk-zOtSe"
      },
      "source": [
        "# Let's start visualization part"
      ]
    },
    {
      "cell_type": "code",
      "execution_count": 137,
      "id": "M2APvuk_PwaL",
      "metadata": {
        "id": "M2APvuk_PwaL"
      },
      "outputs": [],
      "source": [
        "import matplotlib.pyplot as plt # library for plotting graphs"
      ]
    },
    {
      "cell_type": "markdown",
      "id": "RmESQOzp0jzU",
      "metadata": {
        "id": "RmESQOzp0jzU"
      },
      "source": [
        "Let's look, which month is the most popular in *`intakes`*  \n",
        "\n",
        "(later I realised, that it is an aswer for a question:\n",
        "\n",
        "\"*Is the intake of animals constant throughout the year or are there periods of higher/lower caseloads?*\")\n",
        "\n",
        "\n"
      ]
    },
    {
      "cell_type": "code",
      "execution_count": 138,
      "id": "z1r1phjR0wsd",
      "metadata": {
        "id": "z1r1phjR0wsd"
      },
      "outputs": [],
      "source": [
        "month_amount = {}\n",
        "months = ['January', 'February', 'March', 'April', 'May', 'June', 'July', 'August', 'September', 'October', 'November', 'December']\n",
        "for i in months:\n",
        "    month_amount[i] = 0\n",
        "for i in intakes.Month:\n",
        "    month_amount[i]+=1\n",
        "amount_intake = list(month_amount.values())\n"
      ]
    },
    {
      "cell_type": "markdown",
      "id": "cIwLPI-5Q9dz",
      "metadata": {
        "id": "cIwLPI-5Q9dz"
      },
      "source": [
        "I've collected quantity of months to dictionary `month_amount`\n",
        "\n",
        "Now let's plot statistics and plot lines of `min, max, average` values "
      ]
    },
    {
      "cell_type": "code",
      "execution_count": 139,
      "id": "WuwcM_cZ15N0",
      "metadata": {
        "colab": {
          "base_uri": "https://localhost:8080/",
          "height": 467
        },
        "id": "WuwcM_cZ15N0",
        "outputId": "3358adeb-2fb3-414b-903c-37cd85b6d45a"
      },
      "outputs": [
        {
          "data": {
            "image/png": "[encoded data removed]",
            "text/plain": [
              "<Figure size 1080x504 with 1 Axes>"
            ]
          },
          "metadata": {
            "needs_background": "light"
          },
          "output_type": "display_data"
        }
      ],
      "source": [
        "min_amount = min(amount_intake)\n",
        "max_amount = max(amount_intake)\n",
        "avg_amount = sum(amount_intake)/12\n",
        "\n",
        "fig = plt.figure(figsize = (15, 7))\n",
        "plt.axhline(min_amount, color=\"green\", linestyle=\"--\")\n",
        "plt.axhline(max_amount, color=\"red\", linestyle=\"--\")\n",
        "plt.axhline(avg_amount, color=\"orange\", linestyle=\"--\")\n",
        "\n",
        "# part for plotting avg, min, max on the graph in a digit form\n",
        "plt.text(-1,min_amount,min_amount, color=\"green\",\n",
        "         weight=\"bold\", ha=\"left\", va=\"bottom\") \n",
        "plt.text(-1,max_amount,max_amount, color=\"red\",\n",
        "         weight=\"bold\", ha=\"left\", va=\"bottom\")\n",
        "plt.text(-1,avg_amount,avg_amount, color=\"orange\",\n",
        "         weight=\"bold\", ha=\"left\", va=\"bottom\")\n",
        "\n",
        "plt.legend([\"Minimal amount\",\"Maximal amount\",\"Average amount\"])\n",
        "plt.bar(months, amount_intake)\n",
        "plt.xlabel(\"Month\", fontsize=16)\n",
        "plt.ylabel(\"Intakes amount\", fontsize=16)\n",
        "\n",
        "plt.title(\"Intakes through year\", fontsize=18)\n",
        "plt.show()"
      ]
    },
    {
      "cell_type": "markdown",
      "id": "Lb27BIdSBZwR",
      "metadata": {
        "id": "Lb27BIdSBZwR"
      },
      "source": [
        "What about popular outcome month?"
      ]
    },
    {
      "cell_type": "code",
      "execution_count": 140,
      "id": "bojkIOmJBjd1",
      "metadata": {
        "id": "bojkIOmJBjd1"
      },
      "outputs": [],
      "source": [
        "months = ['Jan', 'Feb', 'Mar', 'Apr', 'May', 'Jun', 'Jul', 'Aug', 'Sep', 'Oct', 'Nov', 'Dec']\n",
        "month_amount = {}\n",
        "for i in months:\n",
        "    month_amount[i] = 0\n",
        "for i in outcomes.Month:\n",
        "    month_amount[i]+=1\n",
        "amount_outcomes = list(month_amount.values())"
      ]
    },
    {
      "cell_type": "code",
      "execution_count": 141,
      "id": "GtIlEeOPBmvj",
      "metadata": {
        "colab": {
          "base_uri": "https://localhost:8080/",
          "height": 467
        },
        "id": "GtIlEeOPBmvj",
        "outputId": "fa9cce5b-97f0-4e64-e461-a7f74d8bec85"
      },
      "outputs": [
        {
          "data": {
            "image/png": "[encoded data removed]",
            "text/plain": [
              "<Figure size 1080x504 with 1 Axes>"
            ]
          },
          "metadata": {
            "needs_background": "light"
          },
          "output_type": "display_data"
        }
      ],
      "source": [
        "min_amount = min(amount_outcomes)\n",
        "max_amount = max(amount_outcomes)\n",
        "avg_amount = sum(amount_outcomes)/12\n",
        "\n",
        "fig = plt.figure(figsize = (15, 7))\n",
        "plt.axhline(min_amount, color=\"green\", linestyle=\"--\")\n",
        "plt.axhline(max_amount, color=\"red\", linestyle=\"--\")\n",
        "plt.axhline(avg_amount, color=\"orange\", linestyle=\"--\")\n",
        "\n",
        "plt.text(-1,min_amount,min_amount, color=\"green\", weight=\"bold\", ha=\"left\", va=\"bottom\")\n",
        "plt.text(-1,max_amount,max_amount, color=\"red\", weight=\"bold\", ha=\"left\", va=\"bottom\")\n",
        "plt.text(-1,avg_amount,round(avg_amount, 2), color=\"orange\", weight=\"bold\", ha=\"left\", va=\"bottom\")\n",
        "\n",
        "plt.legend([\"Minimal amount\",\"Maximal amount\",\"Average amount\"])\n",
        "plt.bar(months, amount_outcomes)\n",
        "plt.xlabel(\"Month\", fontsize=16)\n",
        "plt.ylabel(\"Outcomes amount\", fontsize=16)\n",
        "\n",
        "plt.title(\"Outcomes through year\", fontsize=18)\n",
        "plt.show()"
      ]
    },
    {
      "cell_type": "markdown",
      "id": "yOHsCpPlSlAp",
      "metadata": {
        "id": "yOHsCpPlSlAp"
      },
      "source": [
        "Let's vizualise both graphs on one figure"
      ]
    },
    {
      "cell_type": "code",
      "execution_count": 142,
      "id": "TKyaE_PACsGU",
      "metadata": {
        "colab": {
          "base_uri": "https://localhost:8080/",
          "height": 467
        },
        "id": "TKyaE_PACsGU",
        "outputId": "f81f8788-07ef-4c93-f18c-ceaa0f58b9d0"
      },
      "outputs": [
        {
          "data": {
            "image/png": "[encoded data removed]",
            "text/plain": [
              "<Figure size 1080x504 with 1 Axes>"
            ]
          },
          "metadata": {
            "needs_background": "light"
          },
          "output_type": "display_data"
        }
      ],
      "source": [
        "fig = plt.figure(figsize = (15, 7))\n",
        "x = np.arange(len(months))*2\n",
        "width = 0.4\n",
        "plt.bar(x+width, amount_outcomes, color=\"green\")\n",
        "plt.bar(x-width, amount_intake, color=\"red\")\n",
        "plt.xticks(x, months)\n",
        "plt.legend([\"Outcomes\",\"Intakes\"])\n",
        "plt.xlabel(\"Month\", fontsize=16)\n",
        "plt.ylabel(\"Amount\", fontsize=16)\n",
        "\n",
        "plt.title(\"Intakes and Outcomes through year\", fontsize=18)\n",
        "plt.show()"
      ]
    },
    {
      "cell_type": "markdown",
      "id": "NJ2bqQVRSwdw",
      "metadata": {
        "id": "NJ2bqQVRSwdw"
      },
      "source": [
        "From this graph I can conclude, that the biggest amount of intakes in `May and June`. \n",
        "\n",
        "Popular outcome months are `July, August and October`"
      ]
    },
    {
      "cell_type": "markdown",
      "id": "J8aDxG83Ht_I",
      "metadata": {
        "id": "J8aDxG83Ht_I"
      },
      "source": [
        "# Let's look on age distribution"
      ]
    },
    {
      "cell_type": "code",
      "execution_count": 143,
      "id": "hPBuo4mCJINJ",
      "metadata": {
        "id": "hPBuo4mCJINJ"
      },
      "outputs": [],
      "source": [
        "age_upon_intake = intakes[\"Age upon Intake\"]\n",
        "age_amount = {}\n",
        "keys = age_upon_intake.unique()\n",
        "keys.sort()\n",
        "for key in keys:\n",
        "    age_amount[key] = 0\n",
        "for i in intakes[\"Age upon Intake\"]:\n",
        "    age_amount[i]+=1\n",
        "\n",
        "#for key in keys:\n",
        "#    print(f\"Age {key}: {age_amount[key]}\")\n",
        "amount = list(age_amount.values())\n",
        "keys = list(keys)"
      ]
    },
    {
      "cell_type": "code",
      "execution_count": 144,
      "id": "AUSIBkjGKJqv",
      "metadata": {
        "colab": {
          "base_uri": "https://localhost:8080/",
          "height": 298
        },
        "id": "AUSIBkjGKJqv",
        "outputId": "26179540-a2cf-4b43-d513-bce6c3c86bdf"
      },
      "outputs": [
        {
          "data": {
            "text/plain": [
              "Text(0.5, 1.0, 'Ages')"
            ]
          },
          "execution_count": 144,
          "metadata": {},
          "output_type": "execute_result"
        },
        {
          "data": {
            "image/png": "[encoded data removed]",
            "text/plain": [
              "<Figure size 432x288 with 1 Axes>"
            ]
          },
          "metadata": {
            "needs_background": "light"
          },
          "output_type": "display_data"
        }
      ],
      "source": [
        "plt.bar(keys, amount)\n",
        "plt.title(\"Ages\")"
      ]
    },
    {
      "cell_type": "markdown",
      "id": "e7wHJlTiUkJ2",
      "metadata": {
        "id": "e7wHJlTiUkJ2"
      },
      "source": [
        "This vizualisation doesn't give any information. So we need to make ages in groups(intervals)\n",
        "\n",
        "1: < 1 year\n",
        "\n",
        "2: 1-3 years\n",
        "\n",
        "3: 3-5 years\n",
        "\n",
        "4: 5-7 years\n",
        "\n",
        "5: 7+ years"
      ]
    },
    {
      "cell_type": "code",
      "execution_count": 145,
      "id": "RN5ZyPvdWBkW",
      "metadata": {
        "id": "RN5ZyPvdWBkW"
      },
      "outputs": [],
      "source": [
        "def age_to_interval(df):\n",
        "    year = 365\n",
        "    year_amount = {}\n",
        "    age_interval = []\n",
        "    year_amount[\"<1 year\"] = 0\n",
        "    year_amount[\"1-3 years\"] = 0\n",
        "    year_amount[\"3-5 years\"] = 0\n",
        "    year_amount[\"5-7 years\"] = 0\n",
        "    year_amount[\"7+ year\"] = 0\n",
        "    keys = year_amount.keys()\n",
        "    \n",
        "    for i in df.columns:\n",
        "        if \"Age\" in i:\n",
        "            column = i\n",
        "            break\n",
        "\n",
        "    for i in df[f\"{column}\"]:\n",
        "        if(int(i) < year):\n",
        "            year_amount[\"<1 year\"]+=1\n",
        "            age_interval.append(\"<1 year\")\n",
        "        elif(3*year > int(i) >= year):\n",
        "            year_amount[\"1-3 years\"]+=1\n",
        "            age_interval.append(\"1-3 years\")\n",
        "        elif(5*year > int(i) >= 3*year):\n",
        "            year_amount[\"3-5 years\"]+=1\n",
        "            age_interval.append(\"3-5 years\")\n",
        "        elif(7*year > int(i) >= 5*year):\n",
        "            year_amount[\"5-7 years\"]+=1\n",
        "            age_interval.append(\"5-7 years\")\n",
        "        elif(int(i) >= 7*year):\n",
        "            year_amount[\"7+ year\"]+=1\n",
        "            age_interval.append(\"7+ year\")\n",
        "\n",
        "    return year_amount, age_interval"
      ]
    },
    {
      "cell_type": "code",
      "execution_count": 146,
      "id": "KUBaejVOKc0_",
      "metadata": {
        "id": "KUBaejVOKc0_"
      },
      "outputs": [],
      "source": [
        "res = age_to_interval(intakes)\n",
        "year_amount = res[0]\n",
        "age_interval = res[1]"
      ]
    },
    {
      "cell_type": "code",
      "execution_count": 147,
      "id": "CuNq1_bLYJRV",
      "metadata": {
        "colab": {
          "base_uri": "https://localhost:8080/",
          "height": 318
        },
        "id": "CuNq1_bLYJRV",
        "outputId": "a8eac83e-a253-4db6-914c-2f26f39c4ecf"
      },
      "outputs": [
        {
          "data": {
            "text/plain": [
              "<BarContainer object of 5 artists>"
            ]
          },
          "execution_count": 147,
          "metadata": {},
          "output_type": "execute_result"
        },
        {
          "data": {
            "image/png": "[encoded data removed]",
            "text/plain": [
              "<Figure size 504x288 with 1 Axes>"
            ]
          },
          "metadata": {
            "needs_background": "light"
          },
          "output_type": "display_data"
        }
      ],
      "source": [
        "figure = plt.figure(figsize=(7, 4))\n",
        "keys = list(year_amount.keys())\n",
        "amount = list(year_amount.values())\n",
        "plt.xlabel(\"Age Interval\", fontsize = 14)\n",
        "plt.ylabel(\"Amount\", fontsize = 14)\n",
        "plt.title(\"Ages\", fontsize = 16)\n",
        "plt.bar(keys, amount)"
      ]
    },
    {
      "cell_type": "markdown",
      "id": "faAk2d2MToGP",
      "metadata": {
        "id": "faAk2d2MToGP"
      },
      "source": [
        "We have some animal type, so let's look on statystics in intakes\n"
      ]
    },
    {
      "cell_type": "code",
      "execution_count": 148,
      "id": "_kcUfBZkUFkc",
      "metadata": {
        "colab": {
          "base_uri": "https://localhost:8080/"
        },
        "id": "_kcUfBZkUFkc",
        "outputId": "433942e0-e37e-4a36-a92f-d7423fdcfade"
      },
      "outputs": [
        {
          "name": "stdout",
          "output_type": "stream",
          "text": [
            "Dog          65900\n",
            "Cat          49960\n",
            "Other         7345\n",
            "Bird           661\n",
            "Livestock       24\n",
            "Name: Animal Type, dtype: int64\n"
          ]
        }
      ],
      "source": [
        "animals = intakes.drop_duplicates(subset=\"Animal ID\")\n",
        "animal_amount = animals[\"Animal Type\"].value_counts() \n",
        "print(animal_amount)"
      ]
    },
    {
      "cell_type": "markdown",
      "id": "zdxfGCyzTW66",
      "metadata": {
        "id": "zdxfGCyzTW66"
      },
      "source": [
        "Each pet has special color combination, which includes some colors. Let's look which colors are popular between cats."
      ]
    },
    {
      "cell_type": "code",
      "execution_count": 149,
      "id": "srO2C0HjTloK",
      "metadata": {
        "colab": {
          "base_uri": "https://localhost:8080/"
        },
        "id": "srO2C0HjTloK",
        "outputId": "3cc2d9be-abb0-4739-df78-c3e21f40cfc2"
      },
      "outputs": [
        {
          "name": "stdout",
          "output_type": "stream",
          "text": [
            "{'Tricolor': 14, 'White': 18163, 'Calico': 2533, 'Gray': 520, 'Chocolate': 38, 'Black': 12977, 'Brown Tabby': 12770, 'Cream Tabby': 1413, 'Tan': 46, 'Torbie': 1934, 'Tortie': 2652, 'Cream': 188, 'Brown': 188, 'Blue': 3700, 'Red': 7, 'Gray Tabby': 613, 'Brown Merle': 2, 'Orange Tabby': 6026, 'Brown Brindle': 8, 'Blue Tabby': 3114, 'Yellow': 10, 'Red Tick': 1, 'Lynx Point': 816, 'Black Brindle': 3, 'Buff': 39, 'Silver': 21, 'Black Tabby': 343, 'Black Smoke': 238, 'Silver Tabby': 149, 'Sable': 2, 'Seal Point': 592, 'Fawn': 2, 'Apricot': 3, 'Brown Tiger': 18, 'Orange': 419, 'Blue Cream': 105, 'Lilac Point': 172, 'Pink': 2, 'Gold': 1, 'Flame Point': 343, 'Chocolate Point': 91, 'Blue Point': 93, 'Tortie Point': 164, 'Black Tiger': 4, 'Silver Lynx Point': 27, 'Calico Point': 70, 'Blue Smoke': 20, 'Agouti': 25, 'Cream Tiger': 2, 'Orange Tiger': 4}\n"
          ]
        }
      ],
      "source": [
        "color_amount = {}\n",
        "#colors - dictionary of all colors from all animals which we had before\n",
        "cat_colors = colors.keys()\n",
        "for i in cat_colors:\n",
        "    color_amount[i] = 0\n",
        "for idx, rows in intakes.iterrows():\n",
        "    if rows[\"Animal Type\"] == \"Cat\":\n",
        "        for color in rows[\"Color List\"]:\n",
        "            color_amount[color] += 1\n",
        "color_amount_cat = {}\n",
        "for key, value in color_amount.items():\n",
        "    if value!=0:\n",
        "        color_amount_cat[key] = value\n",
        "print(color_amount_cat)\n"
      ]
    },
    {
      "cell_type": "markdown",
      "id": "dJIlb_RyVhDJ",
      "metadata": {
        "id": "dJIlb_RyVhDJ"
      },
      "source": [
        "Now we need to sort dictionary `color_amount_cat` for better vizualisation"
      ]
    },
    {
      "cell_type": "code",
      "execution_count": 150,
      "id": "EOhwhHZ1YiDA",
      "metadata": {
        "colab": {
          "base_uri": "https://localhost:8080/"
        },
        "id": "EOhwhHZ1YiDA",
        "outputId": "cfd29f8a-8cb7-4c83-9035-df7567b4f0a2"
      },
      "outputs": [
        {
          "name": "stdout",
          "output_type": "stream",
          "text": [
            "{'White': 18163, 'Black': 12977, 'Brown Tabby': 12770, 'Orange Tabby': 6026, 'Blue': 3700, 'Blue Tabby': 3114, 'Tortie': 2652, 'Calico': 2533, 'Torbie': 1934, 'Cream Tabby': 1413, 'Lynx Point': 816, 'Gray Tabby': 613, 'Seal Point': 592, 'Gray': 520, 'Orange': 419, 'Black Tabby': 343, 'Flame Point': 343, 'Black Smoke': 238, 'Cream': 188, 'Brown': 188, 'Lilac Point': 172, 'Tortie Point': 164, 'Silver Tabby': 149, 'Blue Cream': 105, 'Blue Point': 93, 'Chocolate Point': 91, 'Calico Point': 70, 'Tan': 46, 'Buff': 39, 'Chocolate': 38, 'Silver Lynx Point': 27, 'Agouti': 25, 'Silver': 21, 'Blue Smoke': 20, 'Brown Tiger': 18, 'Tricolor': 14, 'Yellow': 10, 'Brown Brindle': 8, 'Red': 7, 'Black Tiger': 4, 'Orange Tiger': 4, 'Black Brindle': 3, 'Apricot': 3, 'Brown Merle': 2, 'Sable': 2, 'Fawn': 2, 'Pink': 2, 'Cream Tiger': 2, 'Red Tick': 1, 'Gold': 1}\n"
          ]
        }
      ],
      "source": [
        "sorted_keys = sorted(color_amount_cat, key=color_amount_cat.get, reverse=True)\n",
        "sorted_color_amount_cat = {}\n",
        "for color in sorted_keys:\n",
        "    sorted_color_amount_cat[color] = color_amount_cat[color]\n",
        "print(sorted_color_amount_cat)\n"
      ]
    },
    {
      "cell_type": "markdown",
      "id": "kccDoV8LV4An",
      "metadata": {
        "id": "kccDoV8LV4An"
      },
      "source": [
        "Amount of colors is really huge. \n",
        "\n",
        "So let's plot popular and rare colors"
      ]
    },
    {
      "cell_type": "code",
      "execution_count": 151,
      "id": "KZMWDEJKb4_5",
      "metadata": {
        "colab": {
          "base_uri": "https://localhost:8080/"
        },
        "id": "KZMWDEJKb4_5",
        "outputId": "fb9ea874-6424-4d0f-fa94-8931d085ca7a"
      },
      "outputs": [
        {
          "name": "stdout",
          "output_type": "stream",
          "text": [
            "{'White': 18163, 'Black': 12977, 'Brown Tabby': 12770, 'Orange Tabby': 6026, 'Blue': 3700}\n",
            "{'Tricolor': 14, 'Yellow': 10, 'Brown Brindle': 8, 'Red': 7, 'Black Tiger': 4, 'Orange Tiger': 4, 'Black Brindle': 3, 'Apricot': 3, 'Brown Merle': 2, 'Sable': 2, 'Fawn': 2, 'Pink': 2, 'Cream Tiger': 2, 'Red Tick': 1, 'Gold': 1}\n"
          ]
        }
      ],
      "source": [
        "more_popular_colors = {}\n",
        "rare_colors = {}\n",
        "more_popular_colors_keys = list(sorted_color_amount_cat.keys())[:5] # first 5 colors - most popular\n",
        "rare_colors_keys = list(sorted_color_amount_cat.keys())[-15:]       # last 15 colors - rare\n",
        "\n",
        "for color in more_popular_colors_keys:\n",
        "    more_popular_colors[color] = sorted_color_amount_cat[color]\n",
        "    \n",
        "for color in rare_colors_keys:\n",
        "    rare_colors[color] = sorted_color_amount_cat[color]\n",
        "\n",
        "print(more_popular_colors)\n",
        "print(rare_colors)"
      ]
    },
    {
      "cell_type": "code",
      "execution_count": 152,
      "id": "scEIK3Jzeg4i",
      "metadata": {
        "colab": {
          "base_uri": "https://localhost:8080/",
          "height": 409
        },
        "id": "scEIK3Jzeg4i",
        "outputId": "49aaee35-8015-4a13-9d80-35df60c5b658"
      },
      "outputs": [
        {
          "data": {
            "text/plain": [
              "Text(0.5, 1.0, 'Popular colors')"
            ]
          },
          "execution_count": 152,
          "metadata": {},
          "output_type": "execute_result"
        },
        {
          "data": {
            "image/png": "[encoded data removed]",
            "text/plain": [
              "<Figure size 720x432 with 1 Axes>"
            ]
          },
          "metadata": {
            "needs_background": "light"
          },
          "output_type": "display_data"
        }
      ],
      "source": [
        "figure = plt.figure(figsize=(10,6))\n",
        "plt.bar(more_popular_colors_keys, more_popular_colors.values())\n",
        "plt.title(\"Popular colors\", fontsize = 16)"
      ]
    },
    {
      "cell_type": "code",
      "execution_count": 153,
      "id": "eRdEBVdOfEcK",
      "metadata": {
        "colab": {
          "base_uri": "https://localhost:8080/",
          "height": 509
        },
        "id": "eRdEBVdOfEcK",
        "outputId": "09d616e4-47e7-47fa-c2b2-735790459e68"
      },
      "outputs": [
        {
          "data": {
            "text/plain": [
              "Text(0.5, 1.0, 'Rare colors')"
            ]
          },
          "execution_count": 153,
          "metadata": {},
          "output_type": "execute_result"
        },
        {
          "data": {
            "image/png": "[encoded data removed]",
            "text/plain": [
              "<Figure size 1080x504 with 1 Axes>"
            ]
          },
          "metadata": {
            "needs_background": "light"
          },
          "output_type": "display_data"
        }
      ],
      "source": [
        "figure = plt.figure(figsize=(15, 7))\n",
        "plt.xticks(rotation = 45) \n",
        "plt.bar(rare_colors_keys, rare_colors.values())\n",
        "plt.title(\"Rare colors\", fontsize = 14)"
      ]
    },
    {
      "cell_type": "markdown",
      "id": "ActSrLkQoS1G",
      "metadata": {
        "id": "ActSrLkQoS1G"
      },
      "source": [
        "Let's look on statistics of column `Sex upon Intake`\n"
      ]
    },
    {
      "cell_type": "code",
      "execution_count": 154,
      "id": "UB5cu0vwoQYf",
      "metadata": {
        "colab": {
          "base_uri": "https://localhost:8080/"
        },
        "id": "UB5cu0vwoQYf",
        "outputId": "7cc8f32a-618b-49a6-b543-dd6230d92908"
      },
      "outputs": [
        {
          "name": "stdout",
          "output_type": "stream",
          "text": [
            "{'Neutered Male': 20837, 'Spayed Female': 17736, 'Intact Male': 45635, 'Intact Female': 43307, 'Unknown': 11069, 'NaN': 1}\n"
          ]
        }
      ],
      "source": [
        "sex = list(intakes[\"Sex upon Intake\"].unique())\n",
        "sex_amount = {}\n",
        "for key in sex:\n",
        "    sex_amount[key] = 0\n",
        "for i in intakes[\"Sex upon Intake\"]:\n",
        "    sex_amount[i] += 1\n",
        "amount = sex_amount.values()\n",
        "print(sex_amount)"
      ]
    },
    {
      "cell_type": "markdown",
      "id": "RMp5RmHCueij",
      "metadata": {
        "id": "RMp5RmHCueij"
      },
      "source": [
        "We won't use *`NaN`* key in out vizualisation, so delete it. \n",
        "\n",
        "Let's vizualise in pie form\n",
        "\n",
        "\n"
      ]
    },
    {
      "cell_type": "code",
      "execution_count": 155,
      "id": "xDAXc3vzvOLm",
      "metadata": {
        "colab": {
          "base_uri": "https://localhost:8080/"
        },
        "id": "xDAXc3vzvOLm",
        "outputId": "7ec95252-4d47-42c8-d81f-12d10d110dcf"
      },
      "outputs": [
        {
          "name": "stdout",
          "output_type": "stream",
          "text": [
            "Neutered Male\n",
            "Spayed Female\n",
            "Intact Male\n",
            "Intact Female\n",
            "Unknown\n"
          ]
        }
      ],
      "source": [
        "sex.remove(\"NaN\")\n",
        "del sex_amount[\"NaN\"]\n",
        "total_amount = len(intakes[\"Sex upon Intake\"])-1\n",
        "percent = []\n",
        "\n",
        "for key in sex:\n",
        "    print(key)\n",
        "    percent.append(round(sex_amount[key]/total_amount, 2))"
      ]
    },
    {
      "cell_type": "code",
      "execution_count": 156,
      "id": "yJiKupYatq8N",
      "metadata": {
        "colab": {
          "base_uri": "https://localhost:8080/",
          "height": 579
        },
        "id": "yJiKupYatq8N",
        "outputId": "d95d80e4-2f51-4363-9c7b-1a45bab8781f"
      },
      "outputs": [
        {
          "data": {
            "text/plain": [
              "([<matplotlib.patches.Wedge at 0x7fdd5b595dc0>,\n",
              "  <matplotlib.patches.Wedge at 0x7fdd5b595ac0>,\n",
              "  <matplotlib.patches.Wedge at 0x7fdd5b5a45e0>,\n",
              "  <matplotlib.patches.Wedge at 0x7fdd5b5994f0>,\n",
              "  <matplotlib.patches.Wedge at 0x7fdd5b599520>],\n",
              " [Text(0.9801071672559598, 0.4993895680663527, 'Neutered Male'),\n",
              "  Text(0.23995754141400957, 1.0735084435245696, 'Spayed Female'),\n",
              "  Text(-1.0349688639905885, 0.3726116618814163, 'Intact Male'),\n",
              "  Text(0.10351925128402162, -1.0951181509835346, 'Intact Female'),\n",
              "  Text(1.0654415043906653, -0.27355877014227886, 'Unknown')],\n",
              " [Text(0.5346039094123416, 0.2723943098543742, '15%'),\n",
              "  Text(0.13088593168036883, 0.5855500601043107, '13%'),\n",
              "  Text(-0.5645284712675936, 0.20324272466259072, '33%'),\n",
              "  Text(0.05646504615492087, -0.597337173263746, '31%'),\n",
              "  Text(0.5811499114858173, -0.14921387462306118, '8%')])"
            ]
          },
          "execution_count": 156,
          "metadata": {},
          "output_type": "execute_result"
        },
        {
          "data": {
            "image/png": "[encoded data removed]",
            "text/plain": [
              "<Figure size 720x360 with 1 Axes>"
            ]
          },
          "metadata": {},
          "output_type": "display_data"
        }
      ],
      "source": [
        "figure = plt.figure(figsize=(10,5))\n",
        "plt.title(\"Sex upon Intake\")\n",
        "plt.pie(percent, labels=sex, autopct='%.f%%')"
      ]
    },
    {
      "cell_type": "markdown",
      "id": "N0kRhtX-YULD",
      "metadata": {
        "id": "N0kRhtX-YULD"
      },
      "source": [
        "Mostly, there're sex `Intact Male` and `Intact Female`."
      ]
    },
    {
      "cell_type": "markdown",
      "id": "YpJ1uInL0S8u",
      "metadata": {
        "id": "YpJ1uInL0S8u"
      },
      "source": [
        "Now I want to find a relation/correlation between `Age upon Intake` and `Intake Condition`"
      ]
    },
    {
      "cell_type": "code",
      "execution_count": 157,
      "id": "PR8I83M50cah",
      "metadata": {
        "colab": {
          "base_uri": "https://localhost:8080/"
        },
        "id": "PR8I83M50cah",
        "outputId": "7faab1a5-412f-4a01-a774-d046674ebbac"
      },
      "outputs": [
        {
          "name": "stdout",
          "output_type": "stream",
          "text": [
            "{'Normal': 119320, 'Sick': 5999, 'Injured': 7844, 'Pregnant': 103, 'Nursing': 3932, 'Aged': 463, 'Medical': 174, 'Other': 245, 'Neonatal': 321, 'Feral': 125, 'Behavior': 49, 'Med Urgent': 2, 'Space': 4, 'Med Attn': 3, 'Panleuk': 1}\n"
          ]
        }
      ],
      "source": [
        "conditions = list(intakes[\"Intake Condition\"].unique())\n",
        "years = year_amount.keys()\n",
        "condition_amount = {}\n",
        "\n",
        "for key in conditions:\n",
        "    condition_amount[key] = 0\n",
        "for i in intakes[\"Intake Condition\"]:\n",
        "    condition_amount[i]+=1\n",
        "intakes[\"Intake Condition\"] = intakes[\"Intake Condition\"] .astype('category')\n",
        "\n",
        "print(condition_amount)"
      ]
    },
    {
      "cell_type": "code",
      "execution_count": 158,
      "id": "hkVyABpw7enz",
      "metadata": {
        "id": "hkVyABpw7enz"
      },
      "outputs": [],
      "source": [
        "intakes[\"Age Interval\"] = np.array(age_interval)\n",
        "intakes[\"Age Interval\"].unique()\n",
        "intakes[\"Age Interval\"] = intakes[\"Age Interval\"] .astype('category')"
      ]
    },
    {
      "cell_type": "markdown",
      "id": "SVik0MWGhPko",
      "metadata": {
        "id": "SVik0MWGhPko"
      },
      "source": [
        "Now we need to create columns for all unique values from Age Interval and Intake Condition\n"
      ]
    },
    {
      "cell_type": "code",
      "execution_count": 159,
      "id": "dKkm2e8whY0p",
      "metadata": {
        "id": "dKkm2e8whY0p"
      },
      "outputs": [],
      "source": [
        "indexes = []\n",
        "for i in range(1, len(intakes)+1):\n",
        "    indexes.append(i)\n",
        "df_corr = pd.DataFrame(index=indexes)\n",
        "for column in list(intakes[\"Age Interval\"].unique()):\n",
        "    df_corr[f\"{column}\"] = 0\n",
        "for column in conditions:\n",
        "    df_corr[f\"{column}\"] = 0\n",
        "columns = df_corr.columns"
      ]
    },
    {
      "cell_type": "code",
      "execution_count": 160,
      "id": "AyT6Ohusi9Tm",
      "metadata": {
        "id": "AyT6Ohusi9Tm"
      },
      "outputs": [],
      "source": [
        "for idx, rows in intakes.iterrows():\n",
        "    df_corr.at[idx, f\"{rows['Intake Condition']}\"] = 1\n",
        "    df_corr.at[idx, f\"{rows['Age Interval']}\"] = 1"
      ]
    },
    {
      "cell_type": "code",
      "execution_count": 161,
      "id": "2PlMz6xOmahA",
      "metadata": {
        "colab": {
          "base_uri": "https://localhost:8080/",
          "height": 677
        },
        "id": "2PlMz6xOmahA",
        "outputId": "1ce798c6-0871-4888-dcf3-369397ca959d"
      },
      "outputs": [
        {
          "data": {
            "text/html": [
              "\n",
              "  <div id=\"df-1b9af81d-7ee6-4613-99d1-cfa8692965ab\">\n",
              "    <div class=\"colab-df-container\">\n",
              "      <div>\n",
              "<style scoped>\n",
              "    .dataframe tbody tr th:only-of-type {\n",
              "        vertical-align: middle;\n",
              "    }\n",
              "\n",
              "    .dataframe tbody tr th {\n",
              "        vertical-align: top;\n",
              "    }\n",
              "\n",
              "    .dataframe thead th {\n",
              "        text-align: right;\n",
              "    }\n",
              "</style>\n",
              "<table border=\"1\" class=\"dataframe\">\n",
              "  <thead>\n",
              "    <tr style=\"text-align: right;\">\n",
              "      <th></th>\n",
              "      <th>1-3 years</th>\n",
              "      <th>7+ year</th>\n",
              "      <th>&lt;1 year</th>\n",
              "      <th>3-5 years</th>\n",
              "      <th>5-7 years</th>\n",
              "      <th>Normal</th>\n",
              "      <th>Sick</th>\n",
              "      <th>Injured</th>\n",
              "      <th>Pregnant</th>\n",
              "      <th>Nursing</th>\n",
              "      <th>Aged</th>\n",
              "      <th>Medical</th>\n",
              "      <th>Other</th>\n",
              "      <th>Neonatal</th>\n",
              "      <th>Feral</th>\n",
              "      <th>Behavior</th>\n",
              "      <th>Med Urgent</th>\n",
              "      <th>Space</th>\n",
              "      <th>Med Attn</th>\n",
              "      <th>Panleuk</th>\n",
              "    </tr>\n",
              "  </thead>\n",
              "  <tbody>\n",
              "    <tr>\n",
              "      <th>1-3 years</th>\n",
              "      <td>1.000000</td>\n",
              "      <td>-0.215077</td>\n",
              "      <td>-0.618166</td>\n",
              "      <td>-0.224137</td>\n",
              "      <td>-0.165118</td>\n",
              "      <td>0.026427</td>\n",
              "      <td>-0.000544</td>\n",
              "      <td>0.043221</td>\n",
              "      <td>0.014227</td>\n",
              "      <td>-0.093628</td>\n",
              "      <td>-0.039110</td>\n",
              "      <td>-0.007404</td>\n",
              "      <td>-0.000856</td>\n",
              "      <td>-0.029500</td>\n",
              "      <td>-0.001019</td>\n",
              "      <td>0.008938</td>\n",
              "      <td>0.001392</td>\n",
              "      <td>-0.003753</td>\n",
              "      <td>0.000054</td>\n",
              "      <td>-0.001876</td>\n",
              "    </tr>\n",
              "    <tr>\n",
              "      <th>7+ year</th>\n",
              "      <td>-0.215077</td>\n",
              "      <td>1.000000</td>\n",
              "      <td>-0.272489</td>\n",
              "      <td>-0.098800</td>\n",
              "      <td>-0.072784</td>\n",
              "      <td>-0.033122</td>\n",
              "      <td>0.027044</td>\n",
              "      <td>0.020622</td>\n",
              "      <td>-0.004631</td>\n",
              "      <td>-0.051998</td>\n",
              "      <td>0.176475</td>\n",
              "      <td>0.004298</td>\n",
              "      <td>0.013304</td>\n",
              "      <td>-0.014836</td>\n",
              "      <td>-0.004978</td>\n",
              "      <td>-0.004426</td>\n",
              "      <td>0.005584</td>\n",
              "      <td>-0.001654</td>\n",
              "      <td>-0.001433</td>\n",
              "      <td>-0.000827</td>\n",
              "    </tr>\n",
              "    <tr>\n",
              "      <th>&lt;1 year</th>\n",
              "      <td>-0.618166</td>\n",
              "      <td>-0.272489</td>\n",
              "      <td>1.000000</td>\n",
              "      <td>-0.283968</td>\n",
              "      <td>-0.209194</td>\n",
              "      <td>-0.030061</td>\n",
              "      <td>0.004231</td>\n",
              "      <td>-0.071673</td>\n",
              "      <td>-0.013465</td>\n",
              "      <td>0.164984</td>\n",
              "      <td>-0.049726</td>\n",
              "      <td>0.000648</td>\n",
              "      <td>-0.007478</td>\n",
              "      <td>0.050514</td>\n",
              "      <td>-0.000436</td>\n",
              "      <td>-0.011230</td>\n",
              "      <td>-0.003362</td>\n",
              "      <td>0.006071</td>\n",
              "      <td>0.002132</td>\n",
              "      <td>0.003035</td>\n",
              "    </tr>\n",
              "    <tr>\n",
              "      <th>3-5 years</th>\n",
              "      <td>-0.224137</td>\n",
              "      <td>-0.098800</td>\n",
              "      <td>-0.283968</td>\n",
              "      <td>1.000000</td>\n",
              "      <td>-0.075850</td>\n",
              "      <td>0.026060</td>\n",
              "      <td>-0.022183</td>\n",
              "      <td>0.021441</td>\n",
              "      <td>0.006721</td>\n",
              "      <td>-0.049903</td>\n",
              "      <td>-0.017718</td>\n",
              "      <td>0.003332</td>\n",
              "      <td>-0.000514</td>\n",
              "      <td>-0.015461</td>\n",
              "      <td>0.009362</td>\n",
              "      <td>0.003200</td>\n",
              "      <td>-0.001219</td>\n",
              "      <td>-0.001724</td>\n",
              "      <td>-0.001493</td>\n",
              "      <td>-0.000862</td>\n",
              "    </tr>\n",
              "    <tr>\n",
              "      <th>5-7 years</th>\n",
              "      <td>-0.165118</td>\n",
              "      <td>-0.072784</td>\n",
              "      <td>-0.209194</td>\n",
              "      <td>-0.075850</td>\n",
              "      <td>1.000000</td>\n",
              "      <td>0.019058</td>\n",
              "      <td>-0.013379</td>\n",
              "      <td>0.014491</td>\n",
              "      <td>-0.002899</td>\n",
              "      <td>-0.039229</td>\n",
              "      <td>-0.006425</td>\n",
              "      <td>0.004361</td>\n",
              "      <td>0.002328</td>\n",
              "      <td>-0.011390</td>\n",
              "      <td>-0.002808</td>\n",
              "      <td>0.007555</td>\n",
              "      <td>-0.000898</td>\n",
              "      <td>-0.001270</td>\n",
              "      <td>-0.001100</td>\n",
              "      <td>-0.000635</td>\n",
              "    </tr>\n",
              "    <tr>\n",
              "      <th>Normal</th>\n",
              "      <td>0.026427</td>\n",
              "      <td>-0.033122</td>\n",
              "      <td>-0.030061</td>\n",
              "      <td>0.026060</td>\n",
              "      <td>0.019058</td>\n",
              "      <td>1.000000</td>\n",
              "      <td>-0.529358</td>\n",
              "      <td>-0.609568</td>\n",
              "      <td>-0.067870</td>\n",
              "      <td>-0.425263</td>\n",
              "      <td>-0.144085</td>\n",
              "      <td>-0.088237</td>\n",
              "      <td>-0.104729</td>\n",
              "      <td>-0.119910</td>\n",
              "      <td>-0.074774</td>\n",
              "      <td>-0.046803</td>\n",
              "      <td>-0.009454</td>\n",
              "      <td>-0.013370</td>\n",
              "      <td>-0.011579</td>\n",
              "      <td>-0.006685</td>\n",
              "    </tr>\n",
              "    <tr>\n",
              "      <th>Sick</th>\n",
              "      <td>-0.000544</td>\n",
              "      <td>0.027044</td>\n",
              "      <td>0.004231</td>\n",
              "      <td>-0.022183</td>\n",
              "      <td>-0.013379</td>\n",
              "      <td>-0.529358</td>\n",
              "      <td>1.000000</td>\n",
              "      <td>-0.052102</td>\n",
              "      <td>-0.005801</td>\n",
              "      <td>-0.036349</td>\n",
              "      <td>-0.012315</td>\n",
              "      <td>-0.007542</td>\n",
              "      <td>-0.008952</td>\n",
              "      <td>-0.010249</td>\n",
              "      <td>-0.006391</td>\n",
              "      <td>-0.004000</td>\n",
              "      <td>-0.000808</td>\n",
              "      <td>-0.001143</td>\n",
              "      <td>-0.000990</td>\n",
              "      <td>-0.000571</td>\n",
              "    </tr>\n",
              "    <tr>\n",
              "      <th>Injured</th>\n",
              "      <td>0.043221</td>\n",
              "      <td>0.020622</td>\n",
              "      <td>-0.071673</td>\n",
              "      <td>0.021441</td>\n",
              "      <td>0.014491</td>\n",
              "      <td>-0.609568</td>\n",
              "      <td>-0.052102</td>\n",
              "      <td>1.000000</td>\n",
              "      <td>-0.006680</td>\n",
              "      <td>-0.041856</td>\n",
              "      <td>-0.014181</td>\n",
              "      <td>-0.008685</td>\n",
              "      <td>-0.010308</td>\n",
              "      <td>-0.011802</td>\n",
              "      <td>-0.007360</td>\n",
              "      <td>-0.004607</td>\n",
              "      <td>-0.000931</td>\n",
              "      <td>-0.001316</td>\n",
              "      <td>-0.001140</td>\n",
              "      <td>-0.000658</td>\n",
              "    </tr>\n",
              "    <tr>\n",
              "      <th>Pregnant</th>\n",
              "      <td>0.014227</td>\n",
              "      <td>-0.004631</td>\n",
              "      <td>-0.013465</td>\n",
              "      <td>0.006721</td>\n",
              "      <td>-0.002899</td>\n",
              "      <td>-0.067870</td>\n",
              "      <td>-0.005801</td>\n",
              "      <td>-0.006680</td>\n",
              "      <td>1.000000</td>\n",
              "      <td>-0.004660</td>\n",
              "      <td>-0.001579</td>\n",
              "      <td>-0.000967</td>\n",
              "      <td>-0.001148</td>\n",
              "      <td>-0.001314</td>\n",
              "      <td>-0.000819</td>\n",
              "      <td>-0.000513</td>\n",
              "      <td>-0.000104</td>\n",
              "      <td>-0.000147</td>\n",
              "      <td>-0.000127</td>\n",
              "      <td>-0.000073</td>\n",
              "    </tr>\n",
              "    <tr>\n",
              "      <th>Nursing</th>\n",
              "      <td>-0.093628</td>\n",
              "      <td>-0.051998</td>\n",
              "      <td>0.164984</td>\n",
              "      <td>-0.049903</td>\n",
              "      <td>-0.039229</td>\n",
              "      <td>-0.425263</td>\n",
              "      <td>-0.036349</td>\n",
              "      <td>-0.041856</td>\n",
              "      <td>-0.004660</td>\n",
              "      <td>1.000000</td>\n",
              "      <td>-0.009894</td>\n",
              "      <td>-0.006059</td>\n",
              "      <td>-0.007191</td>\n",
              "      <td>-0.008234</td>\n",
              "      <td>-0.005134</td>\n",
              "      <td>-0.003214</td>\n",
              "      <td>-0.000649</td>\n",
              "      <td>-0.000918</td>\n",
              "      <td>-0.000795</td>\n",
              "      <td>-0.000459</td>\n",
              "    </tr>\n",
              "    <tr>\n",
              "      <th>Aged</th>\n",
              "      <td>-0.039110</td>\n",
              "      <td>0.176475</td>\n",
              "      <td>-0.049726</td>\n",
              "      <td>-0.017718</td>\n",
              "      <td>-0.006425</td>\n",
              "      <td>-0.144085</td>\n",
              "      <td>-0.012315</td>\n",
              "      <td>-0.014181</td>\n",
              "      <td>-0.001579</td>\n",
              "      <td>-0.009894</td>\n",
              "      <td>1.000000</td>\n",
              "      <td>-0.002053</td>\n",
              "      <td>-0.002437</td>\n",
              "      <td>-0.002790</td>\n",
              "      <td>-0.001740</td>\n",
              "      <td>-0.001089</td>\n",
              "      <td>-0.000220</td>\n",
              "      <td>-0.000311</td>\n",
              "      <td>-0.000269</td>\n",
              "      <td>-0.000156</td>\n",
              "    </tr>\n",
              "    <tr>\n",
              "      <th>Medical</th>\n",
              "      <td>-0.007404</td>\n",
              "      <td>0.004298</td>\n",
              "      <td>0.000648</td>\n",
              "      <td>0.003332</td>\n",
              "      <td>0.004361</td>\n",
              "      <td>-0.088237</td>\n",
              "      <td>-0.007542</td>\n",
              "      <td>-0.008685</td>\n",
              "      <td>-0.000967</td>\n",
              "      <td>-0.006059</td>\n",
              "      <td>-0.002053</td>\n",
              "      <td>1.000000</td>\n",
              "      <td>-0.001492</td>\n",
              "      <td>-0.001708</td>\n",
              "      <td>-0.001065</td>\n",
              "      <td>-0.000667</td>\n",
              "      <td>-0.000135</td>\n",
              "      <td>-0.000190</td>\n",
              "      <td>-0.000165</td>\n",
              "      <td>-0.000095</td>\n",
              "    </tr>\n",
              "    <tr>\n",
              "      <th>Other</th>\n",
              "      <td>-0.000856</td>\n",
              "      <td>0.013304</td>\n",
              "      <td>-0.007478</td>\n",
              "      <td>-0.000514</td>\n",
              "      <td>0.002328</td>\n",
              "      <td>-0.104729</td>\n",
              "      <td>-0.008952</td>\n",
              "      <td>-0.010308</td>\n",
              "      <td>-0.001148</td>\n",
              "      <td>-0.007191</td>\n",
              "      <td>-0.002437</td>\n",
              "      <td>-0.001492</td>\n",
              "      <td>1.000000</td>\n",
              "      <td>-0.002028</td>\n",
              "      <td>-0.001264</td>\n",
              "      <td>-0.000791</td>\n",
              "      <td>-0.000160</td>\n",
              "      <td>-0.000226</td>\n",
              "      <td>-0.000196</td>\n",
              "      <td>-0.000113</td>\n",
              "    </tr>\n",
              "    <tr>\n",
              "      <th>Neonatal</th>\n",
              "      <td>-0.029500</td>\n",
              "      <td>-0.014836</td>\n",
              "      <td>0.050514</td>\n",
              "      <td>-0.015461</td>\n",
              "      <td>-0.011390</td>\n",
              "      <td>-0.119910</td>\n",
              "      <td>-0.010249</td>\n",
              "      <td>-0.011802</td>\n",
              "      <td>-0.001314</td>\n",
              "      <td>-0.008234</td>\n",
              "      <td>-0.002790</td>\n",
              "      <td>-0.001708</td>\n",
              "      <td>-0.002028</td>\n",
              "      <td>1.000000</td>\n",
              "      <td>-0.001448</td>\n",
              "      <td>-0.000906</td>\n",
              "      <td>-0.000183</td>\n",
              "      <td>-0.000259</td>\n",
              "      <td>-0.000224</td>\n",
              "      <td>-0.000129</td>\n",
              "    </tr>\n",
              "    <tr>\n",
              "      <th>Feral</th>\n",
              "      <td>-0.001019</td>\n",
              "      <td>-0.004978</td>\n",
              "      <td>-0.000436</td>\n",
              "      <td>0.009362</td>\n",
              "      <td>-0.002808</td>\n",
              "      <td>-0.074774</td>\n",
              "      <td>-0.006391</td>\n",
              "      <td>-0.007360</td>\n",
              "      <td>-0.000819</td>\n",
              "      <td>-0.005134</td>\n",
              "      <td>-0.001740</td>\n",
              "      <td>-0.001065</td>\n",
              "      <td>-0.001264</td>\n",
              "      <td>-0.001448</td>\n",
              "      <td>1.000000</td>\n",
              "      <td>-0.000565</td>\n",
              "      <td>-0.000114</td>\n",
              "      <td>-0.000161</td>\n",
              "      <td>-0.000140</td>\n",
              "      <td>-0.000081</td>\n",
              "    </tr>\n",
              "    <tr>\n",
              "      <th>Behavior</th>\n",
              "      <td>0.008938</td>\n",
              "      <td>-0.004426</td>\n",
              "      <td>-0.011230</td>\n",
              "      <td>0.003200</td>\n",
              "      <td>0.007555</td>\n",
              "      <td>-0.046803</td>\n",
              "      <td>-0.004000</td>\n",
              "      <td>-0.004607</td>\n",
              "      <td>-0.000513</td>\n",
              "      <td>-0.003214</td>\n",
              "      <td>-0.001089</td>\n",
              "      <td>-0.000667</td>\n",
              "      <td>-0.000791</td>\n",
              "      <td>-0.000906</td>\n",
              "      <td>-0.000565</td>\n",
              "      <td>1.000000</td>\n",
              "      <td>-0.000071</td>\n",
              "      <td>-0.000101</td>\n",
              "      <td>-0.000088</td>\n",
              "      <td>-0.000051</td>\n",
              "    </tr>\n",
              "    <tr>\n",
              "      <th>Med Urgent</th>\n",
              "      <td>0.001392</td>\n",
              "      <td>0.005584</td>\n",
              "      <td>-0.003362</td>\n",
              "      <td>-0.001219</td>\n",
              "      <td>-0.000898</td>\n",
              "      <td>-0.009454</td>\n",
              "      <td>-0.000808</td>\n",
              "      <td>-0.000931</td>\n",
              "      <td>-0.000104</td>\n",
              "      <td>-0.000649</td>\n",
              "      <td>-0.000220</td>\n",
              "      <td>-0.000135</td>\n",
              "      <td>-0.000160</td>\n",
              "      <td>-0.000183</td>\n",
              "      <td>-0.000114</td>\n",
              "      <td>-0.000071</td>\n",
              "      <td>1.000000</td>\n",
              "      <td>-0.000020</td>\n",
              "      <td>-0.000018</td>\n",
              "      <td>-0.000010</td>\n",
              "    </tr>\n",
              "    <tr>\n",
              "      <th>Space</th>\n",
              "      <td>-0.003753</td>\n",
              "      <td>-0.001654</td>\n",
              "      <td>0.006071</td>\n",
              "      <td>-0.001724</td>\n",
              "      <td>-0.001270</td>\n",
              "      <td>-0.013370</td>\n",
              "      <td>-0.001143</td>\n",
              "      <td>-0.001316</td>\n",
              "      <td>-0.000147</td>\n",
              "      <td>-0.000918</td>\n",
              "      <td>-0.000311</td>\n",
              "      <td>-0.000190</td>\n",
              "      <td>-0.000226</td>\n",
              "      <td>-0.000259</td>\n",
              "      <td>-0.000161</td>\n",
              "      <td>-0.000101</td>\n",
              "      <td>-0.000020</td>\n",
              "      <td>1.000000</td>\n",
              "      <td>-0.000025</td>\n",
              "      <td>-0.000014</td>\n",
              "    </tr>\n",
              "    <tr>\n",
              "      <th>Med Attn</th>\n",
              "      <td>0.000054</td>\n",
              "      <td>-0.001433</td>\n",
              "      <td>0.002132</td>\n",
              "      <td>-0.001493</td>\n",
              "      <td>-0.001100</td>\n",
              "      <td>-0.011579</td>\n",
              "      <td>-0.000990</td>\n",
              "      <td>-0.001140</td>\n",
              "      <td>-0.000127</td>\n",
              "      <td>-0.000795</td>\n",
              "      <td>-0.000269</td>\n",
              "      <td>-0.000165</td>\n",
              "      <td>-0.000196</td>\n",
              "      <td>-0.000224</td>\n",
              "      <td>-0.000140</td>\n",
              "      <td>-0.000088</td>\n",
              "      <td>-0.000018</td>\n",
              "      <td>-0.000025</td>\n",
              "      <td>1.000000</td>\n",
              "      <td>-0.000012</td>\n",
              "    </tr>\n",
              "    <tr>\n",
              "      <th>Panleuk</th>\n",
              "      <td>-0.001876</td>\n",
              "      <td>-0.000827</td>\n",
              "      <td>0.003035</td>\n",
              "      <td>-0.000862</td>\n",
              "      <td>-0.000635</td>\n",
              "      <td>-0.006685</td>\n",
              "      <td>-0.000571</td>\n",
              "      <td>-0.000658</td>\n",
              "      <td>-0.000073</td>\n",
              "      <td>-0.000459</td>\n",
              "      <td>-0.000156</td>\n",
              "      <td>-0.000095</td>\n",
              "      <td>-0.000113</td>\n",
              "      <td>-0.000129</td>\n",
              "      <td>-0.000081</td>\n",
              "      <td>-0.000051</td>\n",
              "      <td>-0.000010</td>\n",
              "      <td>-0.000014</td>\n",
              "      <td>-0.000012</td>\n",
              "      <td>1.000000</td>\n",
              "    </tr>\n",
              "  </tbody>\n",
              "</table>\n",
              "</div>\n",
              "      <button class=\"colab-df-convert\" onclick=\"convertToInteractive('df-1b9af81d-7ee6-4613-99d1-cfa8692965ab')\"\n",
              "              title=\"Convert this dataframe to an interactive table.\"\n",
              "              style=\"display:none;\">\n",
              "        \n",
              "  <svg xmlns=\"http://www.w3.org/2000/svg\" height=\"24px\"viewBox=\"0 0 24 24\"\n",
              "       width=\"24px\">\n",
              "    <path d=\"M0 0h24v24H0V0z\" fill=\"none\"/>\n",
              "    <path d=\"M18.56 5.44l.94 2.06.94-2.06 2.06-.94-2.06-.94-.94-2.06-.94 2.06-2.06.94zm-11 1L8.5 8.5l.94-2.06 2.06-.94-2.06-.94L8.5 2.5l-.94 2.06-2.06.94zm10 10l.94 2.06.94-2.06 2.06-.94-2.06-.94-.94-2.06-.94 2.06-2.06.94z\"/><path d=\"M17.41 7.96l-1.37-1.37c-.4-.4-.92-.59-1.43-.59-.52 0-1.04.2-1.43.59L10.3 9.45l-7.72 7.72c-.78.78-.78 2.05 0 2.83L4 21.41c.39.39.9.59 1.41.59.51 0 1.02-.2 1.41-.59l7.78-7.78 2.81-2.81c.8-.78.8-2.07 0-2.86zM5.41 20L4 18.59l7.72-7.72 1.47 1.35L5.41 20z\"/>\n",
              "  </svg>\n",
              "      </button>\n",
              "      \n",
              "  <style>\n",
              "    .colab-df-container {\n",
              "      display:flex;\n",
              "      flex-wrap:wrap;\n",
              "      gap: 12px;\n",
              "    }\n",
              "\n",
              "    .colab-df-convert {\n",
              "      background-color: #E8F0FE;\n",
              "      border: none;\n",
              "      border-radius: 50%;\n",
              "      cursor: pointer;\n",
              "      display: none;\n",
              "      fill: #1967D2;\n",
              "      height: 32px;\n",
              "      padding: 0 0 0 0;\n",
              "      width: 32px;\n",
              "    }\n",
              "\n",
              "    .colab-df-convert:hover {\n",
              "      background-color: #E2EBFA;\n",
              "      box-shadow: 0px 1px 2px rgba(60, 64, 67, 0.3), 0px 1px 3px 1px rgba(60, 64, 67, 0.15);\n",
              "      fill: #174EA6;\n",
              "    }\n",
              "\n",
              "    [theme=dark] .colab-df-convert {\n",
              "      background-color: #3B4455;\n",
              "      fill: #D2E3FC;\n",
              "    }\n",
              "\n",
              "    [theme=dark] .colab-df-convert:hover {\n",
              "      background-color: #434B5C;\n",
              "      box-shadow: 0px 1px 3px 1px rgba(0, 0, 0, 0.15);\n",
              "      filter: drop-shadow(0px 1px 2px rgba(0, 0, 0, 0.3));\n",
              "      fill: #FFFFFF;\n",
              "    }\n",
              "  </style>\n",
              "\n",
              "      <script>\n",
              "        const buttonEl =\n",
              "          document.querySelector('#df-1b9af81d-7ee6-4613-99d1-cfa8692965ab button.colab-df-convert');\n",
              "        buttonEl.style.display =\n",
              "          google.colab.kernel.accessAllowed ? 'block' : 'none';\n",
              "\n",
              "        async function convertToInteractive(key) {\n",
              "          const element = document.querySelector('#df-1b9af81d-7ee6-4613-99d1-cfa8692965ab');\n",
              "          const dataTable =\n",
              "            await google.colab.kernel.invokeFunction('convertToInteractive',\n",
              "                                                     [key], {});\n",
              "          if (!dataTable) return;\n",
              "\n",
              "          const docLinkHtml = 'Like what you see? Visit the ' +\n",
              "            '<a target=\"_blank\" href=https://colab.research.google.com/notebooks/data_table.ipynb>data table notebook</a>'\n",
              "            + ' to learn more about interactive tables.';\n",
              "          element.innerHTML = '';\n",
              "          dataTable['output_type'] = 'display_data';\n",
              "          await google.colab.output.renderOutput(dataTable, element);\n",
              "          const docLink = document.createElement('div');\n",
              "          docLink.innerHTML = docLinkHtml;\n",
              "          element.appendChild(docLink);\n",
              "        }\n",
              "      </script>\n",
              "    </div>\n",
              "  </div>\n",
              "  "
            ],
            "text/plain": [
              "            1-3 years   7+ year   <1 year  3-5 years  5-7 years    Normal  \\\n",
              "1-3 years    1.000000 -0.215077 -0.618166  -0.224137  -0.165118  0.026427   \n",
              "7+ year     -0.215077  1.000000 -0.272489  -0.098800  -0.072784 -0.033122   \n",
              "<1 year     -0.618166 -0.272489  1.000000  -0.283968  -0.209194 -0.030061   \n",
              "3-5 years   -0.224137 -0.098800 -0.283968   1.000000  -0.075850  0.026060   \n",
              "5-7 years   -0.165118 -0.072784 -0.209194  -0.075850   1.000000  0.019058   \n",
              "Normal       0.026427 -0.033122 -0.030061   0.026060   0.019058  1.000000   \n",
              "Sick        -0.000544  0.027044  0.004231  -0.022183  -0.013379 -0.529358   \n",
              "Injured      0.043221  0.020622 -0.071673   0.021441   0.014491 -0.609568   \n",
              "Pregnant     0.014227 -0.004631 -0.013465   0.006721  -0.002899 -0.067870   \n",
              "Nursing     -0.093628 -0.051998  0.164984  -0.049903  -0.039229 -0.425263   \n",
              "Aged        -0.039110  0.176475 -0.049726  -0.017718  -0.006425 -0.144085   \n",
              "Medical     -0.007404  0.004298  0.000648   0.003332   0.004361 -0.088237   \n",
              "Other       -0.000856  0.013304 -0.007478  -0.000514   0.002328 -0.104729   \n",
              "Neonatal    -0.029500 -0.014836  0.050514  -0.015461  -0.011390 -0.119910   \n",
              "Feral       -0.001019 -0.004978 -0.000436   0.009362  -0.002808 -0.074774   \n",
              "Behavior     0.008938 -0.004426 -0.011230   0.003200   0.007555 -0.046803   \n",
              "Med Urgent   0.001392  0.005584 -0.003362  -0.001219  -0.000898 -0.009454   \n",
              "Space       -0.003753 -0.001654  0.006071  -0.001724  -0.001270 -0.013370   \n",
              "Med Attn     0.000054 -0.001433  0.002132  -0.001493  -0.001100 -0.011579   \n",
              "Panleuk     -0.001876 -0.000827  0.003035  -0.000862  -0.000635 -0.006685   \n",
              "\n",
              "                Sick   Injured  Pregnant   Nursing      Aged   Medical  \\\n",
              "1-3 years  -0.000544  0.043221  0.014227 -0.093628 -0.039110 -0.007404   \n",
              "7+ year     0.027044  0.020622 -0.004631 -0.051998  0.176475  0.004298   \n",
              "<1 year     0.004231 -0.071673 -0.013465  0.164984 -0.049726  0.000648   \n",
              "3-5 years  -0.022183  0.021441  0.006721 -0.049903 -0.017718  0.003332   \n",
              "5-7 years  -0.013379  0.014491 -0.002899 -0.039229 -0.006425  0.004361   \n",
              "Normal     -0.529358 -0.609568 -0.067870 -0.425263 -0.144085 -0.088237   \n",
              "Sick        1.000000 -0.052102 -0.005801 -0.036349 -0.012315 -0.007542   \n",
              "Injured    -0.052102  1.000000 -0.006680 -0.041856 -0.014181 -0.008685   \n",
              "Pregnant   -0.005801 -0.006680  1.000000 -0.004660 -0.001579 -0.000967   \n",
              "Nursing    -0.036349 -0.041856 -0.004660  1.000000 -0.009894 -0.006059   \n",
              "Aged       -0.012315 -0.014181 -0.001579 -0.009894  1.000000 -0.002053   \n",
              "Medical    -0.007542 -0.008685 -0.000967 -0.006059 -0.002053  1.000000   \n",
              "Other      -0.008952 -0.010308 -0.001148 -0.007191 -0.002437 -0.001492   \n",
              "Neonatal   -0.010249 -0.011802 -0.001314 -0.008234 -0.002790 -0.001708   \n",
              "Feral      -0.006391 -0.007360 -0.000819 -0.005134 -0.001740 -0.001065   \n",
              "Behavior   -0.004000 -0.004607 -0.000513 -0.003214 -0.001089 -0.000667   \n",
              "Med Urgent -0.000808 -0.000931 -0.000104 -0.000649 -0.000220 -0.000135   \n",
              "Space      -0.001143 -0.001316 -0.000147 -0.000918 -0.000311 -0.000190   \n",
              "Med Attn   -0.000990 -0.001140 -0.000127 -0.000795 -0.000269 -0.000165   \n",
              "Panleuk    -0.000571 -0.000658 -0.000073 -0.000459 -0.000156 -0.000095   \n",
              "\n",
              "               Other  Neonatal     Feral  Behavior  Med Urgent     Space  \\\n",
              "1-3 years  -0.000856 -0.029500 -0.001019  0.008938    0.001392 -0.003753   \n",
              "7+ year     0.013304 -0.014836 -0.004978 -0.004426    0.005584 -0.001654   \n",
              "<1 year    -0.007478  0.050514 -0.000436 -0.011230   -0.003362  0.006071   \n",
              "3-5 years  -0.000514 -0.015461  0.009362  0.003200   -0.001219 -0.001724   \n",
              "5-7 years   0.002328 -0.011390 -0.002808  0.007555   -0.000898 -0.001270   \n",
              "Normal     -0.104729 -0.119910 -0.074774 -0.046803   -0.009454 -0.013370   \n",
              "Sick       -0.008952 -0.010249 -0.006391 -0.004000   -0.000808 -0.001143   \n",
              "Injured    -0.010308 -0.011802 -0.007360 -0.004607   -0.000931 -0.001316   \n",
              "Pregnant   -0.001148 -0.001314 -0.000819 -0.000513   -0.000104 -0.000147   \n",
              "Nursing    -0.007191 -0.008234 -0.005134 -0.003214   -0.000649 -0.000918   \n",
              "Aged       -0.002437 -0.002790 -0.001740 -0.001089   -0.000220 -0.000311   \n",
              "Medical    -0.001492 -0.001708 -0.001065 -0.000667   -0.000135 -0.000190   \n",
              "Other       1.000000 -0.002028 -0.001264 -0.000791   -0.000160 -0.000226   \n",
              "Neonatal   -0.002028  1.000000 -0.001448 -0.000906   -0.000183 -0.000259   \n",
              "Feral      -0.001264 -0.001448  1.000000 -0.000565   -0.000114 -0.000161   \n",
              "Behavior   -0.000791 -0.000906 -0.000565  1.000000   -0.000071 -0.000101   \n",
              "Med Urgent -0.000160 -0.000183 -0.000114 -0.000071    1.000000 -0.000020   \n",
              "Space      -0.000226 -0.000259 -0.000161 -0.000101   -0.000020  1.000000   \n",
              "Med Attn   -0.000196 -0.000224 -0.000140 -0.000088   -0.000018 -0.000025   \n",
              "Panleuk    -0.000113 -0.000129 -0.000081 -0.000051   -0.000010 -0.000014   \n",
              "\n",
              "            Med Attn   Panleuk  \n",
              "1-3 years   0.000054 -0.001876  \n",
              "7+ year    -0.001433 -0.000827  \n",
              "<1 year     0.002132  0.003035  \n",
              "3-5 years  -0.001493 -0.000862  \n",
              "5-7 years  -0.001100 -0.000635  \n",
              "Normal     -0.011579 -0.006685  \n",
              "Sick       -0.000990 -0.000571  \n",
              "Injured    -0.001140 -0.000658  \n",
              "Pregnant   -0.000127 -0.000073  \n",
              "Nursing    -0.000795 -0.000459  \n",
              "Aged       -0.000269 -0.000156  \n",
              "Medical    -0.000165 -0.000095  \n",
              "Other      -0.000196 -0.000113  \n",
              "Neonatal   -0.000224 -0.000129  \n",
              "Feral      -0.000140 -0.000081  \n",
              "Behavior   -0.000088 -0.000051  \n",
              "Med Urgent -0.000018 -0.000010  \n",
              "Space      -0.000025 -0.000014  \n",
              "Med Attn    1.000000 -0.000012  \n",
              "Panleuk    -0.000012  1.000000  "
            ]
          },
          "execution_count": 161,
          "metadata": {},
          "output_type": "execute_result"
        }
      ],
      "source": [
        "df_corr.corr()"
      ]
    },
    {
      "cell_type": "markdown",
      "id": "6r4jwzEpZy-m",
      "metadata": {
        "id": "6r4jwzEpZy-m"
      },
      "source": [
        "Seems like I can't find a correlation table\n",
        "\n",
        "Let's look on table, where X-axis: `Condition`  Y-axis: `Age Interval`"
      ]
    },
    {
      "cell_type": "code",
      "execution_count": 162,
      "id": "KBnSwyeLoP_3",
      "metadata": {
        "colab": {
          "base_uri": "https://localhost:8080/"
        },
        "id": "KBnSwyeLoP_3",
        "outputId": "b145d810-5186-4734-ecd7-8635f9fac6f1"
      },
      "outputs": [
        {
          "name": "stdout",
          "output_type": "stream",
          "text": [
            "           Normal  Sick  Injured  Pregnant  Nursing  Aged  Medical  Other  \\\n",
            "1-3 years   39723  1960     3222        59      278     5       40     78   \n",
            "7+ year      9886   734      865         4        4   437       21     43   \n",
            "<1 year     51690  2694     2306        20     3611     6       78     86   \n",
            "3-5 years   11502   378      932        17       33     2       21     22   \n",
            "5-7 years    6519   233      519         3        6    13       14     16   \n",
            "\n",
            "           Neonatal  Feral  Behavior  Med Urgent  Space  Med Attn  Panleuk  \n",
            "1-3 years        13     39        27           1      0         1        0  \n",
            "7+ year           0      5         1           1      0         0        0  \n",
            "<1 year         308     54         7           0      4         2        1  \n",
            "3-5 years         0     23         7           0      0         0        0  \n",
            "5-7 years         0      4         7           0      0         0        0  \n"
          ]
        }
      ],
      "source": [
        "df_corr = pd.DataFrame(index=list(intakes[\"Age Interval\"].unique()), columns = conditions)\n",
        "for column in conditions:\n",
        "    df_corr[f\"{column}\"] = 0\n",
        "\n",
        "total_amount = len(intakes)\n",
        "for idx, rows in intakes.iterrows():\n",
        "    df_corr.at[rows[\"Age Interval\"],rows[\"Intake Condition\"]] = df_corr.loc[f\"{rows['Age Interval']}\"][f\"{rows['Intake Condition']}\"] + 1\n",
        "print(df_corr)"
      ]
    },
    {
      "cell_type": "markdown",
      "id": "00hC8XMmaXsN",
      "metadata": {
        "id": "00hC8XMmaXsN"
      },
      "source": [
        "This table doesn't show us statistics, so lets look on table by percents"
      ]
    },
    {
      "cell_type": "code",
      "execution_count": 163,
      "id": "tODYPnFnoHZ2",
      "metadata": {
        "id": "tODYPnFnoHZ2"
      },
      "outputs": [],
      "source": [
        "for idx, rows in df_corr.iterrows():\n",
        "    for column in conditions:\n",
        "        df_corr.at[idx,column] = (df_corr.loc[idx][column])/year_amount[f\"{idx}\"]*100\n"
      ]
    },
    {
      "cell_type": "code",
      "execution_count": 164,
      "id": "6cBuc6_qrLU5",
      "metadata": {
        "colab": {
          "base_uri": "https://localhost:8080/",
          "height": 206
        },
        "id": "6cBuc6_qrLU5",
        "outputId": "dac502aa-8f26-47c5-d9e7-719f94204972"
      },
      "outputs": [
        {
          "data": {
            "text/html": [
              "\n",
              "  <div id=\"df-a54237f6-4c94-4541-b8a7-748dd003cca1\">\n",
              "    <div class=\"colab-df-container\">\n",
              "      <div>\n",
              "<style scoped>\n",
              "    .dataframe tbody tr th:only-of-type {\n",
              "        vertical-align: middle;\n",
              "    }\n",
              "\n",
              "    .dataframe tbody tr th {\n",
              "        vertical-align: top;\n",
              "    }\n",
              "\n",
              "    .dataframe thead th {\n",
              "        text-align: right;\n",
              "    }\n",
              "</style>\n",
              "<table border=\"1\" class=\"dataframe\">\n",
              "  <thead>\n",
              "    <tr style=\"text-align: right;\">\n",
              "      <th></th>\n",
              "      <th>Normal</th>\n",
              "      <th>Sick</th>\n",
              "      <th>Injured</th>\n",
              "      <th>Pregnant</th>\n",
              "      <th>Nursing</th>\n",
              "      <th>Aged</th>\n",
              "      <th>Medical</th>\n",
              "      <th>Other</th>\n",
              "      <th>Neonatal</th>\n",
              "      <th>Feral</th>\n",
              "      <th>Behavior</th>\n",
              "      <th>Med Urgent</th>\n",
              "      <th>Space</th>\n",
              "      <th>Med Attn</th>\n",
              "      <th>Panleuk</th>\n",
              "    </tr>\n",
              "  </thead>\n",
              "  <tbody>\n",
              "    <tr>\n",
              "      <th>1-3 years</th>\n",
              "      <td>87</td>\n",
              "      <td>4</td>\n",
              "      <td>7</td>\n",
              "      <td>0</td>\n",
              "      <td>0</td>\n",
              "      <td>0</td>\n",
              "      <td>0</td>\n",
              "      <td>0</td>\n",
              "      <td>0</td>\n",
              "      <td>0</td>\n",
              "      <td>0</td>\n",
              "      <td>0</td>\n",
              "      <td>0</td>\n",
              "      <td>0</td>\n",
              "      <td>0</td>\n",
              "    </tr>\n",
              "    <tr>\n",
              "      <th>7+ year</th>\n",
              "      <td>82</td>\n",
              "      <td>6</td>\n",
              "      <td>7</td>\n",
              "      <td>0</td>\n",
              "      <td>0</td>\n",
              "      <td>3</td>\n",
              "      <td>0</td>\n",
              "      <td>0</td>\n",
              "      <td>0</td>\n",
              "      <td>0</td>\n",
              "      <td>0</td>\n",
              "      <td>0</td>\n",
              "      <td>0</td>\n",
              "      <td>0</td>\n",
              "      <td>0</td>\n",
              "    </tr>\n",
              "    <tr>\n",
              "      <th>&lt;1 year</th>\n",
              "      <td>84</td>\n",
              "      <td>4</td>\n",
              "      <td>3</td>\n",
              "      <td>0</td>\n",
              "      <td>5</td>\n",
              "      <td>0</td>\n",
              "      <td>0</td>\n",
              "      <td>0</td>\n",
              "      <td>0</td>\n",
              "      <td>0</td>\n",
              "      <td>0</td>\n",
              "      <td>0</td>\n",
              "      <td>0</td>\n",
              "      <td>0</td>\n",
              "      <td>0</td>\n",
              "    </tr>\n",
              "    <tr>\n",
              "      <th>3-5 years</th>\n",
              "      <td>88</td>\n",
              "      <td>2</td>\n",
              "      <td>7</td>\n",
              "      <td>0</td>\n",
              "      <td>0</td>\n",
              "      <td>0</td>\n",
              "      <td>0</td>\n",
              "      <td>0</td>\n",
              "      <td>0</td>\n",
              "      <td>0</td>\n",
              "      <td>0</td>\n",
              "      <td>0</td>\n",
              "      <td>0</td>\n",
              "      <td>0</td>\n",
              "      <td>0</td>\n",
              "    </tr>\n",
              "    <tr>\n",
              "      <th>5-7 years</th>\n",
              "      <td>88</td>\n",
              "      <td>3</td>\n",
              "      <td>7</td>\n",
              "      <td>0</td>\n",
              "      <td>0</td>\n",
              "      <td>0</td>\n",
              "      <td>0</td>\n",
              "      <td>0</td>\n",
              "      <td>0</td>\n",
              "      <td>0</td>\n",
              "      <td>0</td>\n",
              "      <td>0</td>\n",
              "      <td>0</td>\n",
              "      <td>0</td>\n",
              "      <td>0</td>\n",
              "    </tr>\n",
              "  </tbody>\n",
              "</table>\n",
              "</div>\n",
              "      <button class=\"colab-df-convert\" onclick=\"convertToInteractive('df-a54237f6-4c94-4541-b8a7-748dd003cca1')\"\n",
              "              title=\"Convert this dataframe to an interactive table.\"\n",
              "              style=\"display:none;\">\n",
              "        \n",
              "  <svg xmlns=\"http://www.w3.org/2000/svg\" height=\"24px\"viewBox=\"0 0 24 24\"\n",
              "       width=\"24px\">\n",
              "    <path d=\"M0 0h24v24H0V0z\" fill=\"none\"/>\n",
              "    <path d=\"M18.56 5.44l.94 2.06.94-2.06 2.06-.94-2.06-.94-.94-2.06-.94 2.06-2.06.94zm-11 1L8.5 8.5l.94-2.06 2.06-.94-2.06-.94L8.5 2.5l-.94 2.06-2.06.94zm10 10l.94 2.06.94-2.06 2.06-.94-2.06-.94-.94-2.06-.94 2.06-2.06.94z\"/><path d=\"M17.41 7.96l-1.37-1.37c-.4-.4-.92-.59-1.43-.59-.52 0-1.04.2-1.43.59L10.3 9.45l-7.72 7.72c-.78.78-.78 2.05 0 2.83L4 21.41c.39.39.9.59 1.41.59.51 0 1.02-.2 1.41-.59l7.78-7.78 2.81-2.81c.8-.78.8-2.07 0-2.86zM5.41 20L4 18.59l7.72-7.72 1.47 1.35L5.41 20z\"/>\n",
              "  </svg>\n",
              "      </button>\n",
              "      \n",
              "  <style>\n",
              "    .colab-df-container {\n",
              "      display:flex;\n",
              "      flex-wrap:wrap;\n",
              "      gap: 12px;\n",
              "    }\n",
              "\n",
              "    .colab-df-convert {\n",
              "      background-color: #E8F0FE;\n",
              "      border: none;\n",
              "      border-radius: 50%;\n",
              "      cursor: pointer;\n",
              "      display: none;\n",
              "      fill: #1967D2;\n",
              "      height: 32px;\n",
              "      padding: 0 0 0 0;\n",
              "      width: 32px;\n",
              "    }\n",
              "\n",
              "    .colab-df-convert:hover {\n",
              "      background-color: #E2EBFA;\n",
              "      box-shadow: 0px 1px 2px rgba(60, 64, 67, 0.3), 0px 1px 3px 1px rgba(60, 64, 67, 0.15);\n",
              "      fill: #174EA6;\n",
              "    }\n",
              "\n",
              "    [theme=dark] .colab-df-convert {\n",
              "      background-color: #3B4455;\n",
              "      fill: #D2E3FC;\n",
              "    }\n",
              "\n",
              "    [theme=dark] .colab-df-convert:hover {\n",
              "      background-color: #434B5C;\n",
              "      box-shadow: 0px 1px 3px 1px rgba(0, 0, 0, 0.15);\n",
              "      filter: drop-shadow(0px 1px 2px rgba(0, 0, 0, 0.3));\n",
              "      fill: #FFFFFF;\n",
              "    }\n",
              "  </style>\n",
              "\n",
              "      <script>\n",
              "        const buttonEl =\n",
              "          document.querySelector('#df-a54237f6-4c94-4541-b8a7-748dd003cca1 button.colab-df-convert');\n",
              "        buttonEl.style.display =\n",
              "          google.colab.kernel.accessAllowed ? 'block' : 'none';\n",
              "\n",
              "        async function convertToInteractive(key) {\n",
              "          const element = document.querySelector('#df-a54237f6-4c94-4541-b8a7-748dd003cca1');\n",
              "          const dataTable =\n",
              "            await google.colab.kernel.invokeFunction('convertToInteractive',\n",
              "                                                     [key], {});\n",
              "          if (!dataTable) return;\n",
              "\n",
              "          const docLinkHtml = 'Like what you see? Visit the ' +\n",
              "            '<a target=\"_blank\" href=https://colab.research.google.com/notebooks/data_table.ipynb>data table notebook</a>'\n",
              "            + ' to learn more about interactive tables.';\n",
              "          element.innerHTML = '';\n",
              "          dataTable['output_type'] = 'display_data';\n",
              "          await google.colab.output.renderOutput(dataTable, element);\n",
              "          const docLink = document.createElement('div');\n",
              "          docLink.innerHTML = docLinkHtml;\n",
              "          element.appendChild(docLink);\n",
              "        }\n",
              "      </script>\n",
              "    </div>\n",
              "  </div>\n",
              "  "
            ],
            "text/plain": [
              "           Normal  Sick  Injured  Pregnant  Nursing  Aged  Medical  Other  \\\n",
              "1-3 years      87     4        7         0        0     0        0      0   \n",
              "7+ year        82     6        7         0        0     3        0      0   \n",
              "<1 year        84     4        3         0        5     0        0      0   \n",
              "3-5 years      88     2        7         0        0     0        0      0   \n",
              "5-7 years      88     3        7         0        0     0        0      0   \n",
              "\n",
              "           Neonatal  Feral  Behavior  Med Urgent  Space  Med Attn  Panleuk  \n",
              "1-3 years         0      0         0           0      0         0        0  \n",
              "7+ year           0      0         0           0      0         0        0  \n",
              "<1 year           0      0         0           0      0         0        0  \n",
              "3-5 years         0      0         0           0      0         0        0  \n",
              "5-7 years         0      0         0           0      0         0        0  "
            ]
          },
          "execution_count": 164,
          "metadata": {},
          "output_type": "execute_result"
        }
      ],
      "source": [
        "df_corr"
      ]
    },
    {
      "cell_type": "markdown",
      "id": "V1rIK6CPatvd",
      "metadata": {
        "id": "V1rIK6CPatvd"
      },
      "source": [
        "It looks better. We can conclude, that mostly animals are in `normal` condition\n",
        "\n",
        "7% of animals older than `1 year` are injured\n",
        "\n",
        "5% of animals less than `1 year` need nurse"
      ]
    },
    {
      "cell_type": "markdown",
      "id": "sYRGk2yRxUUl",
      "metadata": {
        "id": "sYRGk2yRxUUl"
      },
      "source": [
        "# Let's find an answer for question:\n",
        "\n",
        "Does the type of animal leaving the shelter (Outcome Type) depend on the type of arrival (Income Type)?"
      ]
    },
    {
      "cell_type": "code",
      "execution_count": 165,
      "id": "xOKgRhQdyCOW",
      "metadata": {
        "id": "xOKgRhQdyCOW"
      },
      "outputs": [],
      "source": [
        "intake_types = list(intakes[\"Intake Type\"].unique())\n",
        "outcome_types = list(outcomes[\"Outcome Type\"].unique())"
      ]
    },
    {
      "cell_type": "markdown",
      "id": "huKUsDHK0FG_",
      "metadata": {
        "id": "huKUsDHK0FG_"
      },
      "source": [
        "I want to make a new DataFrame with animals, who were in a shelter only 1 time."
      ]
    },
    {
      "cell_type": "code",
      "execution_count": 166,
      "id": "l73B37WO0FjN",
      "metadata": {
        "id": "l73B37WO0FjN"
      },
      "outputs": [],
      "source": [
        "animal_id = list(intakes[\"Animal ID\"].unique())"
      ]
    },
    {
      "cell_type": "markdown",
      "id": "6wVFLOvwdQJP",
      "metadata": {
        "id": "6wVFLOvwdQJP"
      },
      "source": [
        "Let's get animal ids to dictionary `animal_id_once`, which were in a shelter only once"
      ]
    },
    {
      "cell_type": "code",
      "execution_count": 167,
      "id": "1CYbpOm18WvS",
      "metadata": {
        "id": "1CYbpOm18WvS"
      },
      "outputs": [],
      "source": [
        "id_amount = {}\n",
        "for key in animal_id:\n",
        "    id_amount[key] = 0\n",
        "for i in intakes[\"Animal ID\"]:\n",
        "    id_amount[i] += 1\n",
        "animal_id_once = {}\n",
        "for key in animal_id:\n",
        "    if id_amount[key] == 1:\n",
        "        animal_id_once[key] = 1\n"
      ]
    },
    {
      "cell_type": "markdown",
      "id": "jC0wnmlTdgnf",
      "metadata": {
        "id": "jC0wnmlTdgnf"
      },
      "source": [
        "In these dictionaries:\n",
        "\n",
        "`key` - animal id (who was here only once)\n",
        "\n",
        "`value` - condition"
      ]
    },
    {
      "cell_type": "code",
      "execution_count": 168,
      "id": "Sf3jDJEx34GB",
      "metadata": {
        "id": "Sf3jDJEx34GB"
      },
      "outputs": [],
      "source": [
        "intake_type_amount = {}\n",
        "outcome_type_amount = {}"
      ]
    },
    {
      "cell_type": "code",
      "execution_count": 169,
      "id": "AtV7y3f4GUu3",
      "metadata": {
        "id": "AtV7y3f4GUu3"
      },
      "outputs": [],
      "source": [
        "keys = set(animal_id_once.keys())\n",
        "for idx, rows in intakes.iterrows():\n",
        "    if rows[\"Animal ID\"] in keys:\n",
        "        intake_type_amount[rows[\"Animal ID\"]] = rows[\"Intake Type\"]\n",
        "for idx, rows in outcomes.iterrows():\n",
        "    if rows[\"Animal ID\"] in keys:\n",
        "        outcome_type_amount[rows[\"Animal ID\"]] = rows[\"Outcome Type\"]"
      ]
    },
    {
      "cell_type": "markdown",
      "id": "jhmaw8cCegbk",
      "metadata": {
        "id": "jhmaw8cCegbk"
      },
      "source": [
        "Intersection of animal id's, which are in `intakes` and `outcomes` both"
      ]
    },
    {
      "cell_type": "code",
      "execution_count": 170,
      "id": "4RLf2YKdFOPy",
      "metadata": {
        "id": "4RLf2YKdFOPy"
      },
      "outputs": [],
      "source": [
        "animal_id_once = set(animal_id_once.keys())\n",
        "animal_id_once = animal_id_once.intersection(set(outcome_type_amount.keys()))"
      ]
    },
    {
      "cell_type": "markdown",
      "id": "mHz9-os6e9wi",
      "metadata": {
        "id": "mHz9-os6e9wi"
      },
      "source": [
        "Let's find combination in a form: `Output condition` <- `Intake condition`"
      ]
    },
    {
      "cell_type": "code",
      "execution_count": 171,
      "id": "D9Is-DA5D49E",
      "metadata": {
        "id": "D9Is-DA5D49E"
      },
      "outputs": [],
      "source": [
        "type_intake_outcome = {}\n",
        "combinations = []\n",
        "for key in animal_id_once:\n",
        "    combination = f\"Outcome: {outcome_type_amount[key]} <- Intake: {intake_type_amount[key]}\"\n",
        "    if combination not in combinations:\n",
        "        type_intake_outcome[combination] = 1\n",
        "        combinations.append(combination)\n",
        "    else:\n",
        "        type_intake_outcome[combination] += 1"
      ]
    },
    {
      "cell_type": "code",
      "execution_count": 172,
      "id": "E8N_PyT1GfNA",
      "metadata": {
        "colab": {
          "base_uri": "https://localhost:8080/"
        },
        "id": "E8N_PyT1GfNA",
        "outputId": "d24319cd-2c0a-44b3-f36c-c6127309e1c3"
      },
      "outputs": [
        {
          "name": "stdout",
          "output_type": "stream",
          "text": [
            "{'Outcome: Adoption <- Intake: Stray': 36364, 'Outcome: Return to Owner <- Intake: Stray': 10657, 'Outcome: Transfer <- Intake: Stray': 29563, 'Outcome: Transfer <- Intake: Owner Surrender': 6129, 'Outcome: Adoption <- Intake: Owner Surrender': 11026, 'Outcome: Return to Owner <- Intake: Public Assist': 3653, 'Outcome: Euthanasia <- Intake: Wildlife': 4718, 'Outcome: Return to Owner <- Intake: Owner Surrender': 791, 'Outcome: Euthanasia <- Intake: Owner Surrender': 635, 'Outcome: Died <- Intake: Owner Surrender': 164, 'Outcome: Euthanasia <- Intake: Stray': 2893, 'Outcome: Rto-Adopt <- Intake: Stray': 317, 'Outcome: Adoption <- Intake: Public Assist': 912, 'Outcome: Euthanasia <- Intake: Public Assist': 333, 'Outcome: Transfer <- Intake: Abandoned': 218, 'Outcome: Died <- Intake: Stray': 898, 'Outcome: Euthanasia <- Intake: Euthanasia Request': 193, 'Outcome: Adoption <- Intake: Abandoned': 361, 'Outcome: Rto-Adopt <- Intake: Owner Surrender': 159, 'Outcome: Disposal <- Intake: Wildlife': 412, 'Outcome: Transfer <- Intake: Public Assist': 916, 'Outcome: Return to Owner <- Intake: Abandoned': 55, 'Outcome: Relocate <- Intake: Wildlife': 14, 'Outcome: Died <- Intake: Wildlife': 142, 'Outcome: Died <- Intake: Euthanasia Request': 3, 'Outcome: Rto-Adopt <- Intake: Public Assist': 30, 'Outcome: Transfer <- Intake: Wildlife': 63, 'Outcome: Rto-Adopt <- Intake: Abandoned': 5, 'Outcome: Disposal <- Intake: Euthanasia Request': 2, 'Outcome: Died <- Intake: Public Assist': 46, 'Outcome: Disposal <- Intake: Stray': 132, 'Outcome: Missing <- Intake: Stray': 51, 'Outcome: Disposal <- Intake: Public Assist': 57, 'Outcome: Relocate <- Intake: Stray': 10, 'Outcome: Euthanasia <- Intake: Abandoned': 6, 'Outcome: Missing <- Intake: Wildlife': 7, 'Outcome: Disposal <- Intake: Owner Surrender': 14, 'Outcome: Missing <- Intake: Owner Surrender': 10, 'Outcome: Adoption <- Intake: Euthanasia Request': 8, 'Outcome: Return to Owner <- Intake: Euthanasia Request': 4, 'Outcome: Transfer <- Intake: Euthanasia Request': 28, 'Outcome: Died <- Intake: Abandoned': 4, 'Outcome: Adoption <- Intake: Wildlife': 7, 'Outcome: Missing <- Intake: Abandoned': 1, 'Outcome: Return to Owner <- Intake: Wildlife': 2, 'Outcome: Missing <- Intake: Public Assist': 2, 'Outcome: Disposal <- Intake: Abandoned': 4}\n"
          ]
        }
      ],
      "source": [
        "print(type_intake_outcome)"
      ]
    },
    {
      "cell_type": "markdown",
      "id": "Are8KXzifRCm",
      "metadata": {
        "id": "Are8KXzifRCm"
      },
      "source": [
        "Let's plot combinations in each graph by `Outcome Condition`"
      ]
    },
    {
      "cell_type": "code",
      "execution_count": 173,
      "id": "ZErNoHMbON0y",
      "metadata": {
        "colab": {
          "base_uri": "https://localhost:8080/",
          "height": 1000
        },
        "id": "ZErNoHMbON0y",
        "outputId": "c6da641f-d37a-4971-bce9-038ac6389fc1"
      },
      "outputs": [
        {
          "data": {
            "image/png": "[encoded data removed]",
            "text/plain": [
              "<Figure size 576x360 with 1 Axes>"
            ]
          },
          "metadata": {
            "needs_background": "light"
          },
          "output_type": "display_data"
        },
        {
          "name": "stdout",
          "output_type": "stream",
          "text": [
            "\n",
            "\n"
          ]
        },
        {
          "data": {
            "image/png": "[encoded data removed]",
            "text/plain": [
              "<Figure size 576x360 with 1 Axes>"
            ]
          },
          "metadata": {
            "needs_background": "light"
          },
          "output_type": "display_data"
        },
        {
          "name": "stdout",
          "output_type": "stream",
          "text": [
            "\n",
            "\n"
          ]
        },
        {
          "data": {
            "image/png": "[encoded data removed]",
            "text/plain": [
              "<Figure size 576x360 with 1 Axes>"
            ]
          },
          "metadata": {
            "needs_background": "light"
          },
          "output_type": "display_data"
        },
        {
          "name": "stdout",
          "output_type": "stream",
          "text": [
            "\n",
            "\n"
          ]
        },
        {
          "data": {
            "image/png": "[encoded data removed]",
            "text/plain": [
              "<Figure size 576x360 with 1 Axes>"
            ]
          },
          "metadata": {
            "needs_background": "light"
          },
          "output_type": "display_data"
        },
        {
          "name": "stdout",
          "output_type": "stream",
          "text": [
            "\n",
            "\n"
          ]
        },
        {
          "data": {
            "image/png": "[encoded data removed]",
            "text/plain": [
              "<Figure size 576x360 with 1 Axes>"
            ]
          },
          "metadata": {
            "needs_background": "light"
          },
          "output_type": "display_data"
        },
        {
          "name": "stdout",
          "output_type": "stream",
          "text": [
            "\n",
            "\n"
          ]
        },
        {
          "data": {
            "image/png": "[encoded data removed]",
            "text/plain": [
              "<Figure size 576x360 with 1 Axes>"
            ]
          },
          "metadata": {
            "needs_background": "light"
          },
          "output_type": "display_data"
        },
        {
          "name": "stdout",
          "output_type": "stream",
          "text": [
            "\n",
            "\n"
          ]
        },
        {
          "data": {
            "image/png": "[encoded data removed]",
            "text/plain": [
              "<Figure size 576x360 with 1 Axes>"
            ]
          },
          "metadata": {
            "needs_background": "light"
          },
          "output_type": "display_data"
        },
        {
          "name": "stdout",
          "output_type": "stream",
          "text": [
            "\n",
            "\n"
          ]
        },
        {
          "data": {
            "image/png": "[encoded data removed]",
            "text/plain": [
              "<Figure size 576x360 with 1 Axes>"
            ]
          },
          "metadata": {
            "needs_background": "light"
          },
          "output_type": "display_data"
        },
        {
          "name": "stdout",
          "output_type": "stream",
          "text": [
            "\n",
            "\n"
          ]
        },
        {
          "data": {
            "image/png": "[encoded data removed]",
            "text/plain": [
              "<Figure size 576x360 with 1 Axes>"
            ]
          },
          "metadata": {
            "needs_background": "light"
          },
          "output_type": "display_data"
        },
        {
          "name": "stdout",
          "output_type": "stream",
          "text": [
            "\n",
            "\n"
          ]
        }
      ],
      "source": [
        "for el in outcome_types:\n",
        "    figure = plt.figure(figsize = (8,5))\n",
        "    keys = []\n",
        "    values = []\n",
        "    for key in combinations:\n",
        "        if el in key:\n",
        "            \n",
        "            keys.append(key.split(\" <- Intake: \")[1])\n",
        "            values.append(type_intake_outcome[key])\n",
        "    plt.bar(keys, values)\n",
        "    plt.xticks(rotation = 45) \n",
        "    plt.title(el)\n",
        "    plt.show()\n",
        "    print(\"\\n\")"
      ]
    },
    {
      "cell_type": "markdown",
      "id": "uQglrTc7SQH2",
      "metadata": {
        "id": "uQglrTc7SQH2"
      },
      "source": [
        "This statystics shows us, that Outcome Type mostly depends on Intake Type. However, Euthanasia can be used for any Intake Type."
      ]
    },
    {
      "cell_type": "markdown",
      "id": "Ee3pxgKhHMTG",
      "metadata": {
        "id": "Ee3pxgKhHMTG"
      },
      "source": [
        "## Let's find answer for a question:\n",
        "\n",
        "What is the age of the animals when adopted?"
      ]
    },
    {
      "cell_type": "code",
      "execution_count": 174,
      "id": "4SdWwYLnJ8p-",
      "metadata": {
        "id": "4SdWwYLnJ8p-"
      },
      "outputs": [],
      "source": [
        "res = age_to_interval(outcomes)\n",
        "age_interval = res[1]\n",
        "year_amount = res[0]\n",
        "outcomes[\"Age Interval\"] = np.array(age_interval)\n",
        "outcomes[\"Age Interval\"].unique()\n",
        "outcomes[\"Age Interval\"] = outcomes[\"Age Interval\"] .astype('category')"
      ]
    },
    {
      "cell_type": "code",
      "execution_count": 175,
      "id": "yP7aYyf8IQ3Q",
      "metadata": {
        "id": "yP7aYyf8IQ3Q"
      },
      "outputs": [],
      "source": [
        "adopt_age_amount = {}\n",
        "ages = set()\n",
        "for idx, rows in outcomes.iterrows():\n",
        "    # Outcome Type in {Adoption, Rto-Adopt}\n",
        "    if rows[\"Outcome Type\"] == \"Adoption\" or rows[\"Outcome Type\"] == \"Rto-Adopt\":\n",
        "        if rows[\"Age Interval\"] in ages:\n",
        "            adopt_age_amount[rows[\"Age Interval\"]] += 1\n",
        "        else:\n",
        "             adopt_age_amount[rows[\"Age Interval\"]] = 1\n",
        "             ages.add(rows[\"Age Interval\"])\n",
        "sorted_ages = (res[0].keys())\n",
        "\n",
        "amount = []\n",
        "for age in sorted_ages:\n",
        "    amount.append(adopt_age_amount[age])\n",
        "\n"
      ]
    },
    {
      "cell_type": "code",
      "execution_count": 176,
      "id": "xwKmFde_Tr3y",
      "metadata": {
        "colab": {
          "base_uri": "https://localhost:8080/",
          "height": 298
        },
        "id": "xwKmFde_Tr3y",
        "outputId": "ee015bcb-1d38-420e-cbc2-d70c99d25dbf"
      },
      "outputs": [
        {
          "data": {
            "text/plain": [
              "Text(0.5, 1.0, 'Age of adopted animals')"
            ]
          },
          "execution_count": 176,
          "metadata": {},
          "output_type": "execute_result"
        },
        {
          "data": {
            "image/png": "[encoded data removed]",
            "text/plain": [
              "<Figure size 432x288 with 1 Axes>"
            ]
          },
          "metadata": {
            "needs_background": "light"
          },
          "output_type": "display_data"
        }
      ],
      "source": [
        "plt.bar(sorted_ages, amount)\n",
        "plt.title(\"Age of adopted animals\")"
      ]
    },
    {
      "cell_type": "markdown",
      "id": "9zV7MXw9Vw3B",
      "metadata": {
        "id": "9zV7MXw9Vw3B"
      },
      "source": [
        "This graph looks like graph, which shows how many animals from each age-group. \n",
        "\n",
        "It means, that there's no connection between `Age` and `Adoption`."
      ]
    },
    {
      "cell_type": "markdown",
      "id": "xVspfxyaXQGl",
      "metadata": {
        "id": "xVspfxyaXQGl"
      },
      "source": [
        "# My three questions:\n",
        "\n",
        "1) Do we have animals all years? Or some kind of animal eit of the same age\n",
        "\n",
        "2) Increase or dicrease amount of intakes through years?\n",
        "\n",
        "3) Which type of animal dies more? "
      ]
    },
    {
      "cell_type": "markdown",
      "id": "gFMHqNcniTlh",
      "metadata": {
        "id": "gFMHqNcniTlh"
      },
      "source": [
        "# ***First question:***"
      ]
    },
    {
      "cell_type": "markdown",
      "id": "IbzOfZqyer-2",
      "metadata": {
        "id": "IbzOfZqyer-2"
      },
      "source": [
        "Each animal group has really different amount, so we need to convert our data to percent form"
      ]
    },
    {
      "cell_type": "code",
      "execution_count": 177,
      "id": "t3_hv4Zne6V1",
      "metadata": {
        "id": "t3_hv4Zne6V1"
      },
      "outputs": [],
      "source": [
        "animals = list(intakes[\"Animal Type\"].unique())\n",
        "animals.sort()\n",
        "animals_amount = {}\n",
        "for animal in animals:\n",
        "    animals_amount[animal] = 0\n",
        "for i in intakes[\"Animal Type\"]:\n",
        "    animals_amount[i] += 1"
      ]
    },
    {
      "cell_type": "code",
      "execution_count": 178,
      "id": "zvh5tAzbXWgo",
      "metadata": {
        "id": "zvh5tAzbXWgo"
      },
      "outputs": [],
      "source": [
        "animals_ages = {}\n",
        "for animal in animals:\n",
        "    age_amount = {}\n",
        "    ages = set()\n",
        "    for idx, rows in intakes.iterrows():\n",
        "        if rows[\"Animal Type\"] == animal:\n",
        "            if rows[\"Age Interval\"] in ages:\n",
        "                age_amount[rows[\"Age Interval\"]] += 1\n",
        "            else:\n",
        "                age_amount[rows[\"Age Interval\"]] = 1\n",
        "                ages.add(rows[\"Age Interval\"])\n",
        "    animals_ages[animal] = age_amount"
      ]
    },
    {
      "cell_type": "code",
      "execution_count": 179,
      "id": "g9auyMj7xTxf",
      "metadata": {
        "colab": {
          "base_uri": "https://localhost:8080/"
        },
        "id": "g9auyMj7xTxf",
        "outputId": "aed8f133-abee-4dae-c95c-c50355631900"
      },
      "outputs": [
        {
          "name": "stdout",
          "output_type": "stream",
          "text": [
            "{'1-3 years': 71.71, '<1 year': 22.69, '3-5 years': 2.12, '5-7 years': 1.51, '7+ year': 1.97}\n",
            "{'<1 year': 65.97, '3-5 years': 4.93, '1-3 years': 19.94, '7+ year': 6.16, '5-7 years': 3.0}\n",
            "{'1-3 years': 37.59, '7+ year': 11.17, '<1 year': 31.25, '3-5 years': 12.69, '5-7 years': 7.29}\n",
            "{'<1 year': 62.5, '1-3 years': 37.5}\n",
            "{'1-3 years': 69.69, '<1 year': 23.4, '3-5 years': 5.72, '5-7 years': 0.76, '7+ year': 0.42}\n"
          ]
        }
      ],
      "source": [
        "for animal in animals:\n",
        "    for key in (animals_ages[animal]).keys():\n",
        "        (animals_ages[animal])[key] = round(((animals_ages[animal])[key]/animals_amount[animal])*100, 2)\n",
        "    print(animals_ages[animal])"
      ]
    },
    {
      "cell_type": "markdown",
      "id": "zO1l20uNhvrE",
      "metadata": {
        "id": "zO1l20uNhvrE"
      },
      "source": [
        "Let's sort by sorted_ages"
      ]
    },
    {
      "cell_type": "code",
      "execution_count": 180,
      "id": "IneLqntHhzUj",
      "metadata": {
        "colab": {
          "base_uri": "https://localhost:8080/"
        },
        "id": "IneLqntHhzUj",
        "outputId": "4bd4b2eb-7de1-41b9-9955-2239f70de7ba"
      },
      "outputs": [
        {
          "name": "stdout",
          "output_type": "stream",
          "text": [
            "Bird: {'<1 year': 22.69, '1-3 years': 71.71, '3-5 years': 2.12, '5-7 years': 1.51, '7+ year': 1.97}\n",
            "Cat: {'<1 year': 65.97, '1-3 years': 19.94, '3-5 years': 4.93, '5-7 years': 3.0, '7+ year': 6.16}\n",
            "Dog: {'<1 year': 31.25, '1-3 years': 37.59, '3-5 years': 12.69, '5-7 years': 7.29, '7+ year': 11.17}\n",
            "Livestock: {'<1 year': 62.5, '1-3 years': 37.5}\n",
            "Other: {'<1 year': 23.4, '1-3 years': 69.69, '3-5 years': 5.72, '5-7 years': 0.76, '7+ year': 0.42}\n"
          ]
        }
      ],
      "source": [
        "sorted_animals_ages = {}\n",
        "for animal in animals:\n",
        "    sorted_age_amount = {}\n",
        "    for key in sorted_ages:\n",
        "        try:\n",
        "            sorted_age_amount[key] = (animals_ages[animal])[key]\n",
        "        except:\n",
        "            continue\n",
        "    sorted_animals_ages[animal] = sorted_age_amount\n",
        "    print(f\"{animal}: {sorted_animals_ages[animal]}\")"
      ]
    },
    {
      "cell_type": "code",
      "execution_count": 181,
      "id": "52PTXmt9jJkg",
      "metadata": {
        "colab": {
          "base_uri": "https://localhost:8080/",
          "height": 428
        },
        "id": "52PTXmt9jJkg",
        "outputId": "d63c5ae3-02f3-4236-eca2-eaf6ad7031fd"
      },
      "outputs": [
        {
          "data": {
            "image/png": "[encoded data removed]",
            "text/plain": [
              "<Figure size 1080x504 with 1 Axes>"
            ]
          },
          "metadata": {
            "needs_background": "light"
          },
          "output_type": "display_data"
        }
      ],
      "source": [
        "fig = plt.figure(figsize = (15, 7))\n",
        "width = -2\n",
        "for animal in animals:\n",
        "    width += 0.8\n",
        "    values = list(sorted_animals_ages[animal].values())\n",
        "    ages = list(sorted_ages)[:len(values)]\n",
        "    x = np.arange(len(ages))*7\n",
        "    plt.bar(x+width, values, label=f\"{animal}\")\n",
        "    plt.legend()\n",
        "    plt.xticks(x, list(sorted_ages))\n",
        "plt.show()"
      ]
    },
    {
      "cell_type": "markdown",
      "id": "6NpXQkPElIsJ",
      "metadata": {
        "id": "6NpXQkPElIsJ"
      },
      "source": [
        "Mostly `Cats` and `Livestocks` less than `1 year`\n",
        "\n",
        "There are no `Livestocks` older than 3 years\n",
        "\n",
        "`Birds` mostly in an interval `1-3 years`\n",
        "\n",
        "`Dogs ` are leaders between old ages, from `3 years` and older"
      ]
    },
    {
      "cell_type": "markdown",
      "id": "GS-3FlqCkimd",
      "metadata": {
        "id": "GS-3FlqCkimd"
      },
      "source": [
        "---\n",
        "## Second question:"
      ]
    },
    {
      "cell_type": "code",
      "execution_count": 182,
      "id": "fcqvJuPMxBW2",
      "metadata": {
        "colab": {
          "base_uri": "https://localhost:8080/"
        },
        "id": "fcqvJuPMxBW2",
        "outputId": "f036ff12-5a35-4a4b-920b-79e89d32ef99"
      },
      "outputs": [
        {
          "name": "stdout",
          "output_type": "stream",
          "text": [
            "{2014: 18656, 2015: 18712, 2016: 17675, 2017: 17563, 2018: 16979, 2019: 19727, 2020: 9585, 2021: 12042}\n"
          ]
        }
      ],
      "source": [
        "years = [2014, 2015, 2016, 2017, 2018, 2019, 2020, 2021]\n",
        "year_amount = {}\n",
        "for year in years:\n",
        "    year_amount[year] = 0\n",
        "for i in intakes[\"Year\"]:\n",
        "    if i in years:\n",
        "        year_amount[i] += 1\n",
        "print(year_amount)"
      ]
    },
    {
      "cell_type": "code",
      "execution_count": 183,
      "id": "2oPQaNqVzFe-",
      "metadata": {
        "colab": {
          "base_uri": "https://localhost:8080/",
          "height": 299
        },
        "id": "2oPQaNqVzFe-",
        "outputId": "4c2ba721-1282-42ac-bdd0-18c293c288be"
      },
      "outputs": [
        {
          "data": {
            "text/plain": [
              "Text(0.5, 1.0, 'Intakes through years')"
            ]
          },
          "execution_count": 183,
          "metadata": {},
          "output_type": "execute_result"
        },
        {
          "data": {
            "image/png": "[encoded data removed]",
            "text/plain": [
              "<Figure size 432x288 with 1 Axes>"
            ]
          },
          "metadata": {
            "needs_background": "light"
          },
          "output_type": "display_data"
        }
      ],
      "source": [
        "plt.plot(years, list(year_amount.values()))\n",
        "plt.title(\"Intakes through years\", fontsize=14)"
      ]
    },
    {
      "cell_type": "markdown",
      "id": "nCynLGDwnHHK",
      "metadata": {
        "id": "nCynLGDwnHHK"
      },
      "source": [
        "Really low amount of intakes in 2020 and 2021, but I guess it caused by covid. \n",
        "\n",
        "Unfortunately, statistic in years before 2020 doesn't show us decreasing amount of intakes."
      ]
    },
    {
      "cell_type": "markdown",
      "id": "MLi-V3_knx_f",
      "metadata": {
        "id": "MLi-V3_knx_f"
      },
      "source": [
        "---\n",
        "# Third question:"
      ]
    },
    {
      "cell_type": "markdown",
      "id": "v_ZZd8afn3AA",
      "metadata": {
        "id": "v_ZZd8afn3AA"
      },
      "source": [
        "Let's calsulate death between animals in percent's form"
      ]
    },
    {
      "cell_type": "code",
      "execution_count": 184,
      "id": "QjZxRr2s-fwp",
      "metadata": {
        "colab": {
          "base_uri": "https://localhost:8080/"
        },
        "id": "QjZxRr2s-fwp",
        "outputId": "4145af29-19cc-469c-dd9e-d7c703ac5438"
      },
      "outputs": [
        {
          "name": "stdout",
          "output_type": "stream",
          "text": [
            "{'Bird': 3.48, 'Cat': 1.47, 'Dog': 0.39, 'Livestock': 4.0, 'Other': 2.77}\n"
          ]
        }
      ],
      "source": [
        "animal_death = {}\n",
        "animal_total = {}\n",
        "for animal in animals:\n",
        "    animal_total[animal] = 0\n",
        "    animal_death[animal] = 0\n",
        "\n",
        "for idx, rows in outcomes.iterrows():\n",
        "    animal = rows[\"Animal Type\"]\n",
        "    animal_total[animal] += 1\n",
        "    if rows[\"Outcome Type\"] == \"Died\":\n",
        "        animal_death[animal] += 1\n",
        "\n",
        "for animal in animals:\n",
        "    animal_death[animal] = round((animal_death[animal]/animal_total[animal])*100, 2)\n",
        "    \n",
        "print(animal_death)"
      ]
    },
    {
      "cell_type": "code",
      "execution_count": 185,
      "id": "OAog4f3tAypd",
      "metadata": {
        "colab": {
          "base_uri": "https://localhost:8080/",
          "height": 298
        },
        "id": "OAog4f3tAypd",
        "outputId": "58781d0e-0093-498b-cccd-30d89491bf1a"
      },
      "outputs": [
        {
          "data": {
            "text/plain": [
              "Text(0.5, 1.0, 'Death percents')"
            ]
          },
          "execution_count": 185,
          "metadata": {},
          "output_type": "execute_result"
        },
        {
          "data": {
            "image/png": "[encoded data removed]",
            "text/plain": [
              "<Figure size 432x288 with 1 Axes>"
            ]
          },
          "metadata": {
            "needs_background": "light"
          },
          "output_type": "display_data"
        }
      ],
      "source": [
        "plt.bar(animal_death.keys(), animal_death.values())\n",
        "plt.title(\"Death percents\")"
      ]
    },
    {
      "cell_type": "markdown",
      "id": "az-Nud8MoVP6",
      "metadata": {
        "id": "az-Nud8MoVP6"
      },
      "source": [
        "To my happinnes, measure of death between cats and dogs is the lowest. Less, than 1.5%.\n",
        "\n",
        "Livestocks dies in 1 out of 25 cases."
      ]
    },
    {
      "cell_type": "code",
      "execution_count": 186,
      "id": "tT0qE1zs5V8i",
      "metadata": {
        "colab": {
          "base_uri": "https://localhost:8080/"
        },
        "id": "tT0qE1zs5V8i",
        "outputId": "d9d1d665-8254-4f3c-9b8a-a9836c613224"
      },
      "outputs": [
        {
          "name": "stdout",
          "output_type": "stream",
          "text": [
            "--- 408.96888995170593 seconds ---\n"
          ]
        }
      ],
      "source": [
        "print(\"--- %s seconds ---\" % (time.time() - start))"
      ]
    }
  ],
  "metadata": {
    "colab": {
      "provenance": []
    },
    "kernelspec": {
      "display_name": "Python 3 (ipykernel)",
      "language": "python",
      "name": "python3"
    },
    "language_info": {
      "codemirror_mode": {
        "name": "ipython",
        "version": 3
      },
      "file_extension": ".py",
      "mimetype": "text/x-python",
      "name": "python",
      "nbconvert_exporter": "python",
      "pygments_lexer": "ipython3",
      "version": "3.8.5"
    }
  },
  "nbformat": 4,
  "nbformat_minor": 5
}
